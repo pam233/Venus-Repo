{
 "cells": [
  {
   "cell_type": "code",
   "execution_count": null,
   "metadata": {},
   "outputs": [],
   "source": [
    "import pandas as pd"
   ]
  },
  {
   "cell_type": "code",
   "execution_count": 3,
   "metadata": {},
   "outputs": [
    {
     "data": {
      "text/plain": [
       "32833"
      ]
     },
     "execution_count": 3,
     "metadata": {},
     "output_type": "execute_result"
    }
   ],
   "source": [
    "df = pd.read_csv('spotify_songs.csv')\n",
    "df.shape[0]"
   ]
  },
  {
   "cell_type": "code",
   "execution_count": 4,
   "metadata": {},
   "outputs": [
    {
     "data": {
      "text/plain": [
       "<bound method DataFrame.sum of        track_id  track_name  track_artist  track_popularity  track_album_id  \\\n",
       "0         False       False         False             False           False   \n",
       "1         False       False         False             False           False   \n",
       "2         False       False         False             False           False   \n",
       "3         False       False         False             False           False   \n",
       "4         False       False         False             False           False   \n",
       "...         ...         ...           ...               ...             ...   \n",
       "32828     False       False         False             False           False   \n",
       "32829     False       False         False             False           False   \n",
       "32830     False       False         False             False           False   \n",
       "32831     False       False         False             False           False   \n",
       "32832     False       False         False             False           False   \n",
       "\n",
       "       track_album_name  track_album_release_date  playlist_name  playlist_id  \\\n",
       "0                 False                     False          False        False   \n",
       "1                 False                     False          False        False   \n",
       "2                 False                     False          False        False   \n",
       "3                 False                     False          False        False   \n",
       "4                 False                     False          False        False   \n",
       "...                 ...                       ...            ...          ...   \n",
       "32828             False                     False          False        False   \n",
       "32829             False                     False          False        False   \n",
       "32830             False                     False          False        False   \n",
       "32831             False                     False          False        False   \n",
       "32832             False                     False          False        False   \n",
       "\n",
       "       playlist_genre  playlist_subgenre  danceability  energy    key  \\\n",
       "0               False              False         False   False  False   \n",
       "1               False              False         False   False  False   \n",
       "2               False              False         False   False  False   \n",
       "3               False              False         False   False  False   \n",
       "4               False              False         False   False  False   \n",
       "...               ...                ...           ...     ...    ...   \n",
       "32828           False              False         False   False  False   \n",
       "32829           False              False         False   False  False   \n",
       "32830           False              False         False   False  False   \n",
       "32831           False              False         False   False  False   \n",
       "32832           False              False         False   False  False   \n",
       "\n",
       "       loudness   mode  speechiness  valence  tempo  duration_ms  \n",
       "0         False  False        False    False  False        False  \n",
       "1         False  False        False    False  False        False  \n",
       "2         False  False        False    False  False        False  \n",
       "3         False  False        False    False  False        False  \n",
       "4         False  False        False    False  False        False  \n",
       "...         ...    ...          ...      ...    ...          ...  \n",
       "32828     False  False        False    False  False        False  \n",
       "32829     False  False        False    False  False        False  \n",
       "32830     False  False        False    False  False        False  \n",
       "32831     False  False        False    False  False        False  \n",
       "32832     False  False        False    False  False        False  \n",
       "\n",
       "[32833 rows x 20 columns]>"
      ]
     },
     "execution_count": 4,
     "metadata": {},
     "output_type": "execute_result"
    }
   ],
   "source": [
    "df.isna().sum "
   ]
  },
  {
   "cell_type": "code",
   "execution_count": 10,
   "metadata": {},
   "outputs": [],
   "source": [
    "duplicates = df[df.duplicated('track_name', keep=False)]"
   ]
  },
  {
   "cell_type": "code",
   "execution_count": 11,
   "metadata": {},
   "outputs": [
    {
     "data": {
      "text/plain": [
       "23449"
      ]
     },
     "execution_count": 11,
     "metadata": {},
     "output_type": "execute_result"
    }
   ],
   "source": [
    "df_no_duplicates = df.drop_duplicates(subset=['track_name'], keep='first')\n",
    "df_no_duplicates.shape[0]"
   ]
  },
  {
   "cell_type": "code",
   "execution_count": 12,
   "metadata": {},
   "outputs": [],
   "source": [
    "shawn_mendes_tracks = df_no_duplicates[df_no_duplicates['track_artist'] == 'Shawn Mendes']"
   ]
  },
  {
   "cell_type": "code",
   "execution_count": 25,
   "metadata": {},
   "outputs": [
    {
     "data": {
      "text/html": [
       "<div>\n",
       "<style scoped>\n",
       "    .dataframe tbody tr th:only-of-type {\n",
       "        vertical-align: middle;\n",
       "    }\n",
       "\n",
       "    .dataframe tbody tr th {\n",
       "        vertical-align: top;\n",
       "    }\n",
       "\n",
       "    .dataframe thead th {\n",
       "        text-align: right;\n",
       "    }\n",
       "</style>\n",
       "<table border=\"1\" class=\"dataframe\">\n",
       "  <thead>\n",
       "    <tr style=\"text-align: right;\">\n",
       "      <th></th>\n",
       "      <th>track_id</th>\n",
       "      <th>track_name</th>\n",
       "      <th>track_artist</th>\n",
       "      <th>track_popularity</th>\n",
       "      <th>track_album_id</th>\n",
       "      <th>track_album_name</th>\n",
       "      <th>track_album_release_date</th>\n",
       "      <th>playlist_name</th>\n",
       "      <th>playlist_id</th>\n",
       "      <th>playlist_genre</th>\n",
       "      <th>playlist_subgenre</th>\n",
       "      <th>danceability</th>\n",
       "      <th>energy</th>\n",
       "      <th>key</th>\n",
       "      <th>loudness</th>\n",
       "      <th>mode</th>\n",
       "      <th>speechiness</th>\n",
       "      <th>valence</th>\n",
       "      <th>tempo</th>\n",
       "      <th>duration_ms</th>\n",
       "    </tr>\n",
       "  </thead>\n",
       "  <tbody>\n",
       "    <tr>\n",
       "      <th>9</th>\n",
       "      <td>1IXGILkPm0tOCNeq00kCPa</td>\n",
       "      <td>If I Can't Have You - Gryffin Remix</td>\n",
       "      <td>Shawn Mendes</td>\n",
       "      <td>67</td>\n",
       "      <td>4QxzbfSsVryEQwvPFEV5Iu</td>\n",
       "      <td>If I Can't Have You (Gryffin Remix)</td>\n",
       "      <td>6/20/2019</td>\n",
       "      <td>Pop Remix</td>\n",
       "      <td>37i9dQZF1DXcZDD7cfEKhW</td>\n",
       "      <td>pop</td>\n",
       "      <td>dance pop</td>\n",
       "      <td>0.642</td>\n",
       "      <td>0.818</td>\n",
       "      <td>2</td>\n",
       "      <td>-4.552</td>\n",
       "      <td>1</td>\n",
       "      <td>0.0320</td>\n",
       "      <td>0.590</td>\n",
       "      <td>124.957</td>\n",
       "      <td>253040</td>\n",
       "    </tr>\n",
       "    <tr>\n",
       "      <th>90</th>\n",
       "      <td>575NJxNUVDqwJGdzBrlLbv</td>\n",
       "      <td>Lost In Japan - Remix</td>\n",
       "      <td>Shawn Mendes</td>\n",
       "      <td>75</td>\n",
       "      <td>3ynoYncFXzo2OfPT8j93Pw</td>\n",
       "      <td>Lost In Japan (Remix)</td>\n",
       "      <td>9/27/2018</td>\n",
       "      <td>Dance Pop</td>\n",
       "      <td>37i9dQZF1DWZQaaqNMbbXa</td>\n",
       "      <td>pop</td>\n",
       "      <td>dance pop</td>\n",
       "      <td>0.706</td>\n",
       "      <td>0.855</td>\n",
       "      <td>10</td>\n",
       "      <td>-5.377</td>\n",
       "      <td>1</td>\n",
       "      <td>0.2150</td>\n",
       "      <td>0.293</td>\n",
       "      <td>107.184</td>\n",
       "      <td>201253</td>\n",
       "    </tr>\n",
       "    <tr>\n",
       "      <th>709</th>\n",
       "      <td>0TK2YIli7K1leLovkQiNik</td>\n",
       "      <td>Señorita</td>\n",
       "      <td>Shawn Mendes</td>\n",
       "      <td>93</td>\n",
       "      <td>2ZaX1FdZCwchXl1QZiD4O4</td>\n",
       "      <td>Señorita</td>\n",
       "      <td>6/21/2019</td>\n",
       "      <td>Todo Éxitos</td>\n",
       "      <td>2ji5tRQVfnhaX1w9FhmSzk</td>\n",
       "      <td>pop</td>\n",
       "      <td>dance pop</td>\n",
       "      <td>0.759</td>\n",
       "      <td>0.540</td>\n",
       "      <td>9</td>\n",
       "      <td>-6.039</td>\n",
       "      <td>0</td>\n",
       "      <td>0.0287</td>\n",
       "      <td>0.750</td>\n",
       "      <td>116.947</td>\n",
       "      <td>190960</td>\n",
       "    </tr>\n",
       "    <tr>\n",
       "      <th>1280</th>\n",
       "      <td>3AFfyUXTfj12PgrOkZiiJo</td>\n",
       "      <td>Treat You Better</td>\n",
       "      <td>Shawn Mendes</td>\n",
       "      <td>11</td>\n",
       "      <td>51n1JXEvKgR1AaTnnfA6SS</td>\n",
       "      <td>Illuminate</td>\n",
       "      <td>4/20/2017</td>\n",
       "      <td>Pop Inglés (2020 - 2010s)💙 Música En Inglés 2010s</td>\n",
       "      <td>4QAzO1Z92yqqD6Mf3mOANu</td>\n",
       "      <td>pop</td>\n",
       "      <td>dance pop</td>\n",
       "      <td>0.748</td>\n",
       "      <td>0.819</td>\n",
       "      <td>10</td>\n",
       "      <td>-4.032</td>\n",
       "      <td>0</td>\n",
       "      <td>0.1980</td>\n",
       "      <td>0.792</td>\n",
       "      <td>110.645</td>\n",
       "      <td>187973</td>\n",
       "    </tr>\n",
       "    <tr>\n",
       "      <th>1713</th>\n",
       "      <td>3zkWCteF82vJwv0hRLba76</td>\n",
       "      <td>Stitches</td>\n",
       "      <td>Shawn Mendes</td>\n",
       "      <td>77</td>\n",
       "      <td>0CnQ0JQajNswRjPkNYVG8m</td>\n",
       "      <td>Handwritten</td>\n",
       "      <td>4/14/2015</td>\n",
       "      <td>Post pop teen</td>\n",
       "      <td>222nc9tKxKhfZ2GBrOpwH3</td>\n",
       "      <td>pop</td>\n",
       "      <td>post-teen pop</td>\n",
       "      <td>0.746</td>\n",
       "      <td>0.754</td>\n",
       "      <td>1</td>\n",
       "      <td>-6.681</td>\n",
       "      <td>1</td>\n",
       "      <td>0.0670</td>\n",
       "      <td>0.764</td>\n",
       "      <td>149.882</td>\n",
       "      <td>206880</td>\n",
       "    </tr>\n",
       "  </tbody>\n",
       "</table>\n",
       "</div>"
      ],
      "text/plain": [
       "                    track_id                           track_name  \\\n",
       "9     1IXGILkPm0tOCNeq00kCPa  If I Can't Have You - Gryffin Remix   \n",
       "90    575NJxNUVDqwJGdzBrlLbv                Lost In Japan - Remix   \n",
       "709   0TK2YIli7K1leLovkQiNik                             Señorita   \n",
       "1280  3AFfyUXTfj12PgrOkZiiJo                     Treat You Better   \n",
       "1713  3zkWCteF82vJwv0hRLba76                             Stitches   \n",
       "\n",
       "      track_artist  track_popularity          track_album_id  \\\n",
       "9     Shawn Mendes                67  4QxzbfSsVryEQwvPFEV5Iu   \n",
       "90    Shawn Mendes                75  3ynoYncFXzo2OfPT8j93Pw   \n",
       "709   Shawn Mendes                93  2ZaX1FdZCwchXl1QZiD4O4   \n",
       "1280  Shawn Mendes                11  51n1JXEvKgR1AaTnnfA6SS   \n",
       "1713  Shawn Mendes                77  0CnQ0JQajNswRjPkNYVG8m   \n",
       "\n",
       "                         track_album_name track_album_release_date  \\\n",
       "9     If I Can't Have You (Gryffin Remix)                6/20/2019   \n",
       "90                  Lost In Japan (Remix)                9/27/2018   \n",
       "709                              Señorita                6/21/2019   \n",
       "1280                           Illuminate                4/20/2017   \n",
       "1713                          Handwritten                4/14/2015   \n",
       "\n",
       "                                          playlist_name  \\\n",
       "9                                             Pop Remix   \n",
       "90                                            Dance Pop   \n",
       "709                                         Todo Éxitos   \n",
       "1280  Pop Inglés (2020 - 2010s)💙 Música En Inglés 2010s   \n",
       "1713                                      Post pop teen   \n",
       "\n",
       "                 playlist_id playlist_genre playlist_subgenre  danceability  \\\n",
       "9     37i9dQZF1DXcZDD7cfEKhW            pop         dance pop         0.642   \n",
       "90    37i9dQZF1DWZQaaqNMbbXa            pop         dance pop         0.706   \n",
       "709   2ji5tRQVfnhaX1w9FhmSzk            pop         dance pop         0.759   \n",
       "1280  4QAzO1Z92yqqD6Mf3mOANu            pop         dance pop         0.748   \n",
       "1713  222nc9tKxKhfZ2GBrOpwH3            pop     post-teen pop         0.746   \n",
       "\n",
       "      energy  key  loudness  mode  speechiness  valence    tempo  duration_ms  \n",
       "9      0.818    2    -4.552     1       0.0320    0.590  124.957       253040  \n",
       "90     0.855   10    -5.377     1       0.2150    0.293  107.184       201253  \n",
       "709    0.540    9    -6.039     0       0.0287    0.750  116.947       190960  \n",
       "1280   0.819   10    -4.032     0       0.1980    0.792  110.645       187973  \n",
       "1713   0.754    1    -6.681     1       0.0670    0.764  149.882       206880  "
      ]
     },
     "execution_count": 25,
     "metadata": {},
     "output_type": "execute_result"
    }
   ],
   "source": [
    "shawn_mendes_tracks.head()"
   ]
  },
  {
   "cell_type": "code",
   "execution_count": 26,
   "metadata": {},
   "outputs": [
    {
     "data": {
      "text/plain": [
       "23449"
      ]
     },
     "execution_count": 26,
     "metadata": {},
     "output_type": "execute_result"
    }
   ],
   "source": [
    "df = df_no_duplicates\n",
    "df.shape[0]"
   ]
  },
  {
   "cell_type": "code",
   "execution_count": null,
   "metadata": {},
   "outputs": [],
   "source": []
  },
  {
   "cell_type": "code",
   "execution_count": null,
   "metadata": {},
   "outputs": [],
   "source": []
  },
  {
   "cell_type": "code",
   "execution_count": 27,
   "metadata": {},
   "outputs": [],
   "source": [
    "df_no_duplicates.to_csv('tracks.csv', index=False)"
   ]
  },
  {
   "cell_type": "code",
   "execution_count": 36,
   "metadata": {},
   "outputs": [
    {
     "data": {
      "text/plain": [
       "32833"
      ]
     },
     "execution_count": 36,
     "metadata": {},
     "output_type": "execute_result"
    }
   ],
   "source": [
    "artistdata = pd.read_csv('artists.csv')\n",
    "artistdata.shape[0]"
   ]
  },
  {
   "cell_type": "code",
   "execution_count": 37,
   "metadata": {},
   "outputs": [],
   "source": [
    "duplicates = artistdata[artistdata.duplicated('track_artist', keep=False)]\n"
   ]
  },
  {
   "cell_type": "code",
   "execution_count": 38,
   "metadata": {},
   "outputs": [],
   "source": [
    "artists_unique = artistdata.drop_duplicates(subset=['track_artist'], keep='first')"
   ]
  },
  {
   "cell_type": "code",
   "execution_count": 39,
   "metadata": {},
   "outputs": [
    {
     "data": {
      "text/html": [
       "<div>\n",
       "<style scoped>\n",
       "    .dataframe tbody tr th:only-of-type {\n",
       "        vertical-align: middle;\n",
       "    }\n",
       "\n",
       "    .dataframe tbody tr th {\n",
       "        vertical-align: top;\n",
       "    }\n",
       "\n",
       "    .dataframe thead th {\n",
       "        text-align: right;\n",
       "    }\n",
       "</style>\n",
       "<table border=\"1\" class=\"dataframe\">\n",
       "  <thead>\n",
       "    <tr style=\"text-align: right;\">\n",
       "      <th></th>\n",
       "      <th>track_artist</th>\n",
       "    </tr>\n",
       "  </thead>\n",
       "  <tbody>\n",
       "    <tr>\n",
       "      <th>0</th>\n",
       "      <td>Ed Sheeran</td>\n",
       "    </tr>\n",
       "    <tr>\n",
       "      <th>1</th>\n",
       "      <td>Maroon 5</td>\n",
       "    </tr>\n",
       "    <tr>\n",
       "      <th>2</th>\n",
       "      <td>Zara Larsson</td>\n",
       "    </tr>\n",
       "    <tr>\n",
       "      <th>3</th>\n",
       "      <td>The Chainsmokers</td>\n",
       "    </tr>\n",
       "    <tr>\n",
       "      <th>4</th>\n",
       "      <td>Lewis Capaldi</td>\n",
       "    </tr>\n",
       "    <tr>\n",
       "      <th>...</th>\n",
       "      <td>...</td>\n",
       "    </tr>\n",
       "    <tr>\n",
       "      <th>32791</th>\n",
       "      <td>The Cataracs</td>\n",
       "    </tr>\n",
       "    <tr>\n",
       "      <th>32811</th>\n",
       "      <td>Qubicon</td>\n",
       "    </tr>\n",
       "    <tr>\n",
       "      <th>32827</th>\n",
       "      <td>Ferry Corsten feat. Jenny Wahlstrom</td>\n",
       "    </tr>\n",
       "    <tr>\n",
       "      <th>32829</th>\n",
       "      <td>Tegan and Sara</td>\n",
       "    </tr>\n",
       "    <tr>\n",
       "      <th>32831</th>\n",
       "      <td>Mat Zo</td>\n",
       "    </tr>\n",
       "  </tbody>\n",
       "</table>\n",
       "<p>10693 rows × 1 columns</p>\n",
       "</div>"
      ],
      "text/plain": [
       "                              track_artist\n",
       "0                               Ed Sheeran\n",
       "1                                 Maroon 5\n",
       "2                             Zara Larsson\n",
       "3                         The Chainsmokers\n",
       "4                            Lewis Capaldi\n",
       "...                                    ...\n",
       "32791                         The Cataracs\n",
       "32811                              Qubicon\n",
       "32827  Ferry Corsten feat. Jenny Wahlstrom\n",
       "32829                       Tegan and Sara\n",
       "32831                               Mat Zo\n",
       "\n",
       "[10693 rows x 1 columns]"
      ]
     },
     "execution_count": 39,
     "metadata": {},
     "output_type": "execute_result"
    }
   ],
   "source": [
    "artists_unique"
   ]
  },
  {
   "cell_type": "code",
   "execution_count": 45,
   "metadata": {},
   "outputs": [
    {
     "name": "stdout",
     "output_type": "stream",
     "text": [
      "                              track_artist  unique_id\n",
      "0                               Ed Sheeran       1540\n",
      "1                                 Maroon 5       1541\n",
      "2                             Zara Larsson       1542\n",
      "3                         The Chainsmokers       1543\n",
      "4                            Lewis Capaldi       1544\n",
      "...                                    ...        ...\n",
      "10688                         The Cataracs      12228\n",
      "10689                              Qubicon      12229\n",
      "10690  Ferry Corsten feat. Jenny Wahlstrom      12230\n",
      "10691                       Tegan and Sara      12231\n",
      "10692                               Mat Zo      12232\n",
      "\n",
      "[10693 rows x 2 columns]\n"
     ]
    },
    {
     "name": "stderr",
     "output_type": "stream",
     "text": [
      "C:\\Users\\Admin\\AppData\\Local\\Temp\\ipykernel_60\\2740956567.py:2: SettingWithCopyWarning: \n",
      "A value is trying to be set on a copy of a slice from a DataFrame.\n",
      "Try using .loc[row_indexer,col_indexer] = value instead\n",
      "\n",
      "See the caveats in the documentation: https://pandas.pydata.org/pandas-docs/stable/user_guide/indexing.html#returning-a-view-versus-a-copy\n",
      "  artists_unique['unique_id'] = range(1540, len(artists_unique) + 1540)\n"
     ]
    },
    {
     "ename": "NameError",
     "evalue": "name 'csv_file_path' is not defined",
     "output_type": "error",
     "traceback": [
      "\u001b[1;31m---------------------------------------------------------------------------\u001b[0m",
      "\u001b[1;31mNameError\u001b[0m                                 Traceback (most recent call last)",
      "\u001b[1;32mc:\\Users\\Admin\\Desktop\\Data\\datapreprocessing.ipynb Cell 14\u001b[0m line \u001b[0;36m6\n\u001b[0;32m      <a href='vscode-notebook-cell:/c%3A/Users/Admin/Desktop/Data/datapreprocessing.ipynb#X21sZmlsZQ%3D%3D?line=3'>4</a>\u001b[0m \u001b[39m# Display the DataFrame with unique IDs\u001b[39;00m\n\u001b[0;32m      <a href='vscode-notebook-cell:/c%3A/Users/Admin/Desktop/Data/datapreprocessing.ipynb#X21sZmlsZQ%3D%3D?line=4'>5</a>\u001b[0m \u001b[39mprint\u001b[39m(artists_unique)\n\u001b[1;32m----> <a href='vscode-notebook-cell:/c%3A/Users/Admin/Desktop/Data/datapreprocessing.ipynb#X21sZmlsZQ%3D%3D?line=5'>6</a>\u001b[0m artists_unique\u001b[39m.\u001b[39mto_csv(csv_file_path, index\u001b[39m=\u001b[39m\u001b[39mFalse\u001b[39;00m)\n",
      "\u001b[1;31mNameError\u001b[0m: name 'csv_file_path' is not defined"
     ]
    }
   ],
   "source": [
    "artists_unique.reset_index(drop=True, inplace=True)\n",
    "artists_unique['unique_id'] = range(1540, len(artists_unique) + 1540)\n",
    "\n",
    "# Display the DataFrame with unique IDs\n",
    "print(artists_unique)\n"
   ]
  }
 ],
 "metadata": {
  "kernelspec": {
   "display_name": "data_engineering_project",
   "language": "python",
   "name": "python3"
  },
  "language_info": {
   "codemirror_mode": {
    "name": "ipython",
    "version": 3
   },
   "file_extension": ".py",
   "mimetype": "text/x-python",
   "name": "python",
   "nbconvert_exporter": "python",
   "pygments_lexer": "ipython3",
   "version": "3.9.18"
  },
  "orig_nbformat": 4
 },
 "nbformat": 4,
 "nbformat_minor": 2
}

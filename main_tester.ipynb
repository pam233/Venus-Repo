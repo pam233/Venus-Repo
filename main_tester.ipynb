{
 "cells": [
  {
   "cell_type": "code",
   "execution_count": 19,
   "metadata": {},
   "outputs": [],
   "source": [
    "from data_handler import return_create_statement_from_dataframe\n",
    "import pandas as pd\n",
    "from db_handler import create_connection,execute_query, close_connection\n",
    "from data_handler import insert_data_in_batches,extract_data_into_df\n",
    "from df_handler import load_data_into_dataframe\n",
    "from lookups import FileType\n",
    "import prehook\n",
    "db_session = create_connection()"
   ]
  },
  {
   "cell_type": "code",
   "execution_count": 20,
   "metadata": {},
   "outputs": [],
   "source": [
    "\n",
    "# stg_users_dataframe = pd.DataFrame({\n",
    "#     \"age\": [25, 30, 35],\n",
    "#     \"gender\": ['Male', 'Female', 'Male'],\n",
    "#     \"fav_music_genre\": ['Pop', 'Rock', 'Hip-Hop'],\n",
    "#     \"music_time_slot\": ['Morning', 'Evening', 'Afternoon'],\n",
    "#     \"music_lis_frequency\": ['Daily', 'Weekly', 'Monthly'],\n",
    "#     \"music_satisfaction\": ['High', 'Medium', 'Low']\n",
    "# })\n",
    "\n",
    "# stg_songs_dataframe = pd.DataFrame({\n",
    "#     \"track_id\": [1, 2, 3],\n",
    "#     \"track_name\": [\"Song1\", \"Song2\", \"Song3\"],\n",
    "#     \"track_artist\": [\"Artist1\", \"Artist2\", \"Artist3\"],\n",
    "#     \"track_popularity\": [80, 90, 70],\n",
    "#     \"track_album_id\": [101, 102, 103],\n",
    "#     \"track_album_name\": [\"Album1\", \"Album2\", \"Album3\"],\n",
    "#     \"track_album_release_date\": [\"2022-01-01\", \"2022-02-01\", \"2022-03-01\"],\n",
    "#     \"playlist_name\": [\"Playlist1\", \"Playlist2\", \"Playlist3\"],\n",
    "#     \"playlist_id\": [201, 202, 203],\n",
    "#     \"playlist_genre\": [\"Genre1\", \"Genre2\", \"Genre3\"],\n",
    "#     \"energy\": [0.8, 0.7, 0.6],\n",
    "#     \"key\": [1, 2, 3],\n",
    "#     \"loudness\": [-5.0, -6.0, -7.0],\n",
    "#     \"mode\": [0, 1, 0],\n",
    "#     \"speechiness\": [0.1, 0.2, 0.3],\n",
    "#     \"valence\": [0.7, 0.6, 0.5],\n",
    "#     \"tempo\": [120, 130, 140],\n",
    "#     \"duration_ms\": [240000, 250000, 260000]\n",
    "# })\n",
    "\n",
    "\n"
   ]
  },
  {
   "cell_type": "code",
   "execution_count": 21,
   "metadata": {},
   "outputs": [],
   "source": [
    "\n",
    "# stg_users_table_name = \"musicschema\"\n",
    "# stg_users_schema_name = 'public' \n",
    "# stg_users_create_statement = return_create_statement_from_dataframe(\n",
    "#     stg_users_dataframe, stg_users_schema_name, stg_users_table_name)\n",
    "\n",
    "# query = insert_statements_from_dataframe(stg_users_dataframe,stg_users_schema_name ,stg_users_table_name)\n",
    "\n",
    "# for statement in query:\n",
    "#     execute_query(db_session, statement)\n",
    "#     print(statement)\n",
    "    \n",
    "# stg_songs_table_name = 'musicschema'\n",
    "# stg_songs_schema_name = 'public'  \n",
    "# stg_songs_create_statement = return_create_statement_from_dataframe(\n",
    "#     stg_songs_dataframe, stg_songs_schema_name, stg_songs_table_name)\n",
    "\n",
    "# execute_query(conn= db_session, query= stg_users_create_statement)\n",
    "\n",
    "# execute_query(conn= db_session, query= stg_songs_create_statement)"
   ]
  },
  {
   "cell_type": "code",
   "execution_count": 22,
   "metadata": {},
   "outputs": [],
   "source": [
    "# datatype=FileType.CSV\n",
    "# datapath=\"C:/Users/Admin/Desktop/dataeng_fix/LatestComm/songs_dataset.csv\"\n",
    "\n",
    "# dfdata=extract_data_into_df(datatype,datapath)\n",
    "# print(dfdata)"
   ]
  },
  {
   "cell_type": "code",
   "execution_count": 23,
   "metadata": {},
   "outputs": [],
   "source": [
    "# liste=prehook.return_csv_list()\n",
    "# print(liste[0])\n",
    "\n",
    "# prehook.create_staging_tables(liste)"
   ]
  },
  {
   "cell_type": "code",
   "execution_count": 24,
   "metadata": {},
   "outputs": [
    {
     "name": "stdout",
     "output_type": "stream",
     "text": [
      "Unsupported type!\n"
     ]
    },
    {
     "ename": "AttributeError",
     "evalue": "'int' object has no attribute 'dtypes'",
     "output_type": "error",
     "traceback": [
      "\u001b[1;31m---------------------------------------------------------------------------\u001b[0m",
      "\u001b[1;31mAttributeError\u001b[0m                            Traceback (most recent call last)",
      "\u001b[1;32mc:\\Data_project\\main_tester.ipynb Cell 6\u001b[0m line \u001b[0;36m5\n\u001b[0;32m      <a href='vscode-notebook-cell:/c%3A/Data_project/main_tester.ipynb#W5sZmlsZQ%3D%3D?line=2'>3</a>\u001b[0m schema_name \u001b[39m=\u001b[39m \u001b[39m'\u001b[39m\u001b[39mpublic\u001b[39m\u001b[39m'\u001b[39m  \n\u001b[0;32m      <a href='vscode-notebook-cell:/c%3A/Data_project/main_tester.ipynb#W5sZmlsZQ%3D%3D?line=3'>4</a>\u001b[0m batch_size \u001b[39m=\u001b[39m \u001b[39m1000\u001b[39m  \n\u001b[1;32m----> <a href='vscode-notebook-cell:/c%3A/Data_project/main_tester.ipynb#W5sZmlsZQ%3D%3D?line=4'>5</a>\u001b[0m query\u001b[39m=\u001b[39mreturn_create_statement_from_dataframe(data,schema_name,table_name)\n\u001b[0;32m      <a href='vscode-notebook-cell:/c%3A/Data_project/main_tester.ipynb#W5sZmlsZQ%3D%3D?line=5'>6</a>\u001b[0m execute_query(db_session,query)\n\u001b[0;32m      <a href='vscode-notebook-cell:/c%3A/Data_project/main_tester.ipynb#W5sZmlsZQ%3D%3D?line=6'>7</a>\u001b[0m insert_data_in_batches(data, schema_name, table_name, batch_size)\n",
      "File \u001b[1;32mc:\\Data_project\\data_handler.py:36\u001b[0m, in \u001b[0;36mreturn_create_statement_from_dataframe\u001b[1;34m(dataframe, schema_name, table_name)\u001b[0m\n\u001b[0;32m     28\u001b[0m type_mapping \u001b[39m=\u001b[39m {\n\u001b[0;32m     29\u001b[0m     \u001b[39m'\u001b[39m\u001b[39mInt64\u001b[39m\u001b[39m'\u001b[39m: \u001b[39m'\u001b[39m\u001b[39mINT\u001b[39m\u001b[39m'\u001b[39m,\n\u001b[0;32m     30\u001b[0m     \u001b[39m'\u001b[39m\u001b[39mfloat64\u001b[39m\u001b[39m'\u001b[39m: \u001b[39m'\u001b[39m\u001b[39mFLOAT\u001b[39m\u001b[39m'\u001b[39m,\n\u001b[0;32m     31\u001b[0m     \u001b[39m'\u001b[39m\u001b[39mobject\u001b[39m\u001b[39m'\u001b[39m: \u001b[39m'\u001b[39m\u001b[39mTEXT\u001b[39m\u001b[39m'\u001b[39m,\n\u001b[0;32m     32\u001b[0m     \u001b[39m'\u001b[39m\u001b[39mdatetime64[ns]\u001b[39m\u001b[39m'\u001b[39m: \u001b[39m'\u001b[39m\u001b[39mTIMESTAMP\u001b[39m\u001b[39m'\u001b[39m\n\u001b[0;32m     33\u001b[0m }\n\u001b[0;32m     35\u001b[0m fields \u001b[39m=\u001b[39m []\n\u001b[1;32m---> 36\u001b[0m \u001b[39mfor\u001b[39;00m column, dtype \u001b[39min\u001b[39;00m dataframe\u001b[39m.\u001b[39;49mdtypes\u001b[39m.\u001b[39mitems():\n\u001b[0;32m     37\u001b[0m     sql_type \u001b[39m=\u001b[39m type_mapping\u001b[39m.\u001b[39mget(\u001b[39mstr\u001b[39m(dtype), \u001b[39m'\u001b[39m\u001b[39mTEXT\u001b[39m\u001b[39m'\u001b[39m)\n\u001b[0;32m     38\u001b[0m     fields\u001b[39m.\u001b[39mappend(\u001b[39m'\u001b[39m\u001b[39m\"\u001b[39m\u001b[39m{column}\u001b[39;00m\u001b[39m\"\u001b[39m\u001b[39m \u001b[39m\u001b[39m{sql_type}\u001b[39;00m\u001b[39m'\u001b[39m\u001b[39m.\u001b[39mformat(\n\u001b[0;32m     39\u001b[0m         column\u001b[39m=\u001b[39mcolumn, sql_type\u001b[39m=\u001b[39msql_type))\n",
      "\u001b[1;31mAttributeError\u001b[0m: 'int' object has no attribute 'dtypes'"
     ]
    }
   ],
   "source": [
    "data=load_data_into_dataframe(\"C:\\dataproject\\songs_dataset.csv\",FileType.CSV)\n",
    "table_name = 'songs_tab'\n",
    "schema_name = 'public'  \n",
    "batch_size = 1000  \n",
    "query=return_create_statement_from_dataframe(data,schema_name,table_name)\n",
    "execute_query(db_session,query)\n",
    "insert_data_in_batches(data, schema_name, table_name, batch_size)\n"
   ]
  }
 ],
 "metadata": {
  "kernelspec": {
   "display_name": "gpu_38",
   "language": "python",
   "name": "python3"
  },
  "language_info": {
   "codemirror_mode": {
    "name": "ipython",
    "version": 3
   },
   "file_extension": ".py",
   "mimetype": "text/x-python",
   "name": "python",
   "nbconvert_exporter": "python",
   "pygments_lexer": "ipython3",
   "version": "3.9.18"
  },
  "orig_nbformat": 4
 },
 "nbformat": 4,
 "nbformat_minor": 2
}

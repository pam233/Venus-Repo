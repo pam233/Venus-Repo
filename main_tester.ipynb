{
 "cells": [
  {
   "cell_type": "code",
   "execution_count": 1,
   "metadata": {},
   "outputs": [],
   "source": [
    "from data_handler import return_create_statement_from_dataframe\n",
    "import pandas as pd\n",
    "data = {\n",
    "    \"ID\": [1, 2, 3],\n",
    "    \"Name\": [\"Alice\", \"Bob\", \"Charlie\"],\n",
    "    \"Age\": [25, 30, 22]\n",
    "}\n",
    "your_dataframe = pd.DataFrame(data)\n",
    "create_statement = return_create_statement_from_dataframe(your_dataframe, \"test_schema\", \"table_name\")\n"
   ]
  },
  {
   "cell_type": "code",
   "execution_count": 2,
   "metadata": {},
   "outputs": [
    {
     "ename": "AttributeError",
     "evalue": "'NoneType' object has no attribute 'closed'",
     "output_type": "error",
     "traceback": [
      "\u001b[1;31m---------------------------------------------------------------------------\u001b[0m",
      "\u001b[1;31mAttributeError\u001b[0m                            Traceback (most recent call last)",
      "\u001b[1;32mc:\\Data_project\\main_tester.ipynb Cell 2\u001b[0m line \u001b[0;36m3\n\u001b[0;32m      <a href='vscode-notebook-cell:/c%3A/Data_project/main_tester.ipynb#W1sZmlsZQ%3D%3D?line=0'>1</a>\u001b[0m \u001b[39mfrom\u001b[39;00m \u001b[39mdb_handler\u001b[39;00m \u001b[39mimport\u001b[39;00m create_connection, execute_query\n\u001b[0;32m      <a href='vscode-notebook-cell:/c%3A/Data_project/main_tester.ipynb#W1sZmlsZQ%3D%3D?line=1'>2</a>\u001b[0m db_session \u001b[39m=\u001b[39m create_connection()\n\u001b[1;32m----> <a href='vscode-notebook-cell:/c%3A/Data_project/main_tester.ipynb#W1sZmlsZQ%3D%3D?line=2'>3</a>\u001b[0m \u001b[39mprint\u001b[39m(db_session\u001b[39m.\u001b[39;49mclosed)\n",
      "\u001b[1;31mAttributeError\u001b[0m: 'NoneType' object has no attribute 'closed'"
     ]
    }
   ],
   "source": [
    "from db_handler import create_connection, execute_query\n",
    "db_session = create_connection()\n",
    "print(db_session.closed)"
   ]
  },
  {
   "cell_type": "code",
   "execution_count": null,
   "metadata": {},
   "outputs": [],
   "source": [
    "execute_query(conn= db_session, query= create_statement)"
   ]
  }
 ],
 "metadata": {
  "kernelspec": {
   "display_name": "gpu_38",
   "language": "python",
   "name": "python3"
  },
  "language_info": {
   "codemirror_mode": {
    "name": "ipython",
    "version": 3
   },
   "file_extension": ".py",
   "mimetype": "text/x-python",
   "name": "python",
   "nbconvert_exporter": "python",
   "pygments_lexer": "ipython3",
   "version": "3.9.18"
  },
  "orig_nbformat": 4
 },
 "nbformat": 4,
 "nbformat_minor": 2
}

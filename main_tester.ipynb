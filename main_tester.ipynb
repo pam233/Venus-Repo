{
 "cells": [
  {
   "cell_type": "code",
   "execution_count": 30,
   "metadata": {},
   "outputs": [],
   "source": [
    "from data_handler import return_create_statement_from_dataframe\n",
    "import pandas as pd\n",
    "from db_handler import create_connection,execute_query, close_connection\n",
    "from data_handler import insert_statements_from_dataframe,extract_data_into_df,create_etl_watermark_table,insert_data_in_batches\n",
    "from data_handler import execute_sql_script_from_config\n",
    "from lookups import FileType\n",
    "from prehook import execute\n",
    "import prehook\n",
    "\n",
    "db_session = create_connection()"
   ]
  },
  {
   "cell_type": "code",
   "execution_count": 31,
   "metadata": {},
   "outputs": [
    {
     "name": "stdout",
     "output_type": "stream",
     "text": [
      "V1_prehook_Create_ETL_watermark_table.sql\n",
      "V1_prehook_Create_Schema.sql\n",
      "_prehook_create_stg_kaggle_spotify_tracks.sql\n",
      "_prehook_create_stg_kaggle_spotify_users.sql\n"
     ]
    }
   ],
   "source": [
    "prehook.execute()\n"
   ]
  },
  {
   "cell_type": "code",
   "execution_count": 32,
   "metadata": {},
   "outputs": [
    {
     "name": "stdout",
     "output_type": "stream",
     "text": [
      "SQL script executed successfully.\n"
     ]
    }
   ],
   "source": [
    "execute_sql_script_from_config('SQL_Commands/Create_genre_mapping_table.sql')\n",
    "df = pd.read_excel(\"C:\\\\dataproject\\\\genre_mapping.xlsx\")\n",
    "insert_statement = insert_statements_from_dataframe(df, 'musicschema', 'genre_mapping')\n",
    "# insert_statements2 = insert_statements_from_dataframe(df1, 'musicschema', 'stg_kaggle_spotify_tracks')\n",
    "\n",
    "with db_session.cursor() as cursor:\n",
    "    for statement in insert_statement:\n",
    "        cursor.execute(statement)\n",
    "    \n",
    "db_session.commit()"
   ]
  },
  {
   "cell_type": "code",
   "execution_count": 33,
   "metadata": {},
   "outputs": [
    {
     "name": "stdout",
     "output_type": "stream",
     "text": [
      "SQL script executed successfully.\n",
      "SQL script executed successfully.\n",
      "SQL script executed successfully.\n",
      "SQL script executed successfully.\n",
      "SQL script executed successfully.\n",
      "SQL script executed successfully.\n"
     ]
    }
   ],
   "source": [
    "execute_sql_script_from_config('SQL_Commands/V1_prehook_Create_ETL_watermark_table.sql')\n",
    "\n",
    "execute_sql_script_from_config('SQL_Commands/V2_hook_create_dim_users_table.sql')\n",
    "\n",
    "execute_sql_script_from_config('SQL_Commands/V3_hook_create_dim_genre.sql')\n",
    "\n",
    "execute_sql_script_from_config('SQL_Commands/V4_hook_create_dim_songs.sql')\n",
    "\n",
    "execute_sql_script_from_config('SQL_Commands/V5_hook_create_fct_user_genre.sql') \n",
    "\n",
    "\n",
    "execute_sql_script_from_config('SQL_Commands/V7_hook_fct_average_listen_time_per_genre.sql')\n"
   ]
  },
  {
   "cell_type": "code",
   "execution_count": 34,
   "metadata": {},
   "outputs": [
    {
     "name": "stdout",
     "output_type": "stream",
     "text": [
      "SQL script executed successfully.\n",
      "SQL script executed successfully.\n",
      "Error executing SQL script: function avg(text) does not exist\n",
      "LINE 13:     AVG(music_time_slot) AS average_listen_time\n",
      "             ^\n",
      "HINT:  No function matches the given name and argument types. You might need to add explicit type casts.\n",
      "\n",
      "Error executing SQL script: column \"id\" does not exist\n",
      "LINE 12:     id,\n",
      "             ^\n",
      "HINT:  There is a column named \"id\" in table \"fct_song_genre\", but it cannot be referenced from this part of the query.\n",
      "\n",
      "Error executing SQL script: column s.genre does not exist\n",
      "LINE 19:     musicschema.genre_mapping gm ON s.genre = gm.genre_name_...\n",
      "                                             ^\n",
      "\n",
      "Error executing SQL script: column \"number_of_songs\" of relation \"aggregate_users_per_genre\" does not exist\n",
      "LINE 10:     (genre_id, genre_name, number_of_songs)\n",
      "                                    ^\n",
      "\n",
      "SQL script executed successfully.\n",
      "SQL script executed successfully.\n",
      "SQL script executed successfully.\n"
     ]
    }
   ],
   "source": [
    "\n",
    "execute_sql_script_from_config('SQL_Commands/V8_hook_create_agg_genre.sql')\n",
    "\n",
    "execute_sql_script_from_config('SQL_Commands/V8_hook_create_fct_age_distribution_per_genre.sql')\n",
    "\n",
    "execute_sql_script_from_config('SQL_Commands/V9_hook_create_fct_average_listen_time_per_genre.sql') #\n",
    "\n",
    "execute_sql_script_from_config('SQL_Commands/V10_hook_create_fct_song_genre.sql') #\n",
    "\n",
    "execute_sql_script_from_config('SQL_Commands/V11_hook_create_agg_songs_per_genre.sql') #fawte table genre mapping\n",
    "\n",
    "execute_sql_script_from_config('SQL_Commands/V12_hook_create_agg_user_per_genre.sql') #\n",
    "\n",
    "execute_sql_script_from_config('SQL_Commands/V13_hook_create_agg_genre.sql')\n",
    "\n",
    "execute_sql_script_from_config('SQL_Commands/V14_hook_create_agg_release_date.sql')\n",
    "\n",
    "execute_sql_script_from_config('SQL_Commands/V15_hook_create_agg_playlist.sql')"
   ]
  }
 ],
 "metadata": {
  "kernelspec": {
   "display_name": "gpu_38",
   "language": "python",
   "name": "python3"
  },
  "language_info": {
   "codemirror_mode": {
    "name": "ipython",
    "version": 3
   },
   "file_extension": ".py",
   "mimetype": "text/x-python",
   "name": "python",
   "nbconvert_exporter": "python",
   "pygments_lexer": "ipython3",
   "version": "3.9.18"
  },
  "orig_nbformat": 4
 },
 "nbformat": 4,
 "nbformat_minor": 2
}

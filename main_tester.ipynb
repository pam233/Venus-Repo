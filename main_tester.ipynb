{
 "cells": [
  {
   "cell_type": "code",
   "execution_count": 1,
   "metadata": {},
   "outputs": [],
   "source": [
    "from data_handler import return_create_statement_from_dataframe\n",
    "import pandas as pd\n",
    "from db_handler import create_connection,execute_query, close_connection\n",
    "from data_handler import insert_statements_from_dataframe,extract_data_into_df,create_etl_watermark_table,insert_data_in_batches\n",
    "from data_handler import execute_sql_script_from_config\n",
    "from lookups import FileType\n",
    "import prehook\n",
    "from prehook import execute\n",
    "import etl_handler\n",
    "import posthook\n",
    "db_session = create_connection()"
   ]
  },
  {
   "cell_type": "code",
   "execution_count": 2,
   "metadata": {},
   "outputs": [
    {
     "name": "stdout",
     "output_type": "stream",
     "text": [
      "V18_posthook.sql\n",
      "SQL script executed successfully.\n"
     ]
    },
    {
     "name": "stderr",
     "output_type": "stream",
     "text": [
      "c:\\Data_project\\data_handler.py:23: UserWarning: pandas only supports SQLAlchemy connectable (engine/connection) or database string URI or sqlite3 DBAPI2 connection. Other DBAPI2 objects are not tested. Please consider using SQLAlchemy.\n",
      "  df = pd.read_sql_query(query, engine)\n"
     ]
    }
   ],
   "source": [
    "posthook.execute()"
   ]
  },
  {
   "cell_type": "code",
   "execution_count": 3,
   "metadata": {},
   "outputs": [
    {
     "name": "stdout",
     "output_type": "stream",
     "text": [
      "[Timestamp('2023-11-26 19:22:41.435659')]\n"
     ]
    }
   ],
   "source": [
    "etl_watermark = etl_handler.return_etl_watermark(db_session)\n",
    "print(etl_watermark)\n"
   ]
  },
  {
   "cell_type": "code",
   "execution_count": 4,
   "metadata": {},
   "outputs": [],
   "source": [
    "etl_handler.update_or_insert_etl_watermark(db_session)"
   ]
  },
  {
   "cell_type": "code",
   "execution_count": 5,
   "metadata": {},
   "outputs": [
    {
     "name": "stdout",
     "output_type": "stream",
     "text": [
      "V0_prehook_Create_Schema.sql\n",
      "SQL script executed successfully.\n",
      "V1_prehook_stg_kaggle_spotify_tracks_table.sql\n",
      "SQL script executed successfully.\n",
      "V2_prehook_stg_kaggle_spotify_users_table.sql\n",
      "SQL script executed successfully.\n",
      "V3_prehook_genre_mapping_table.sql\n",
      "SQL script executed successfully.\n",
      "V4_prehook_Create_ETL_watermark_table.sql\n",
      "SQL script executed successfully.\n"
     ]
    }
   ],
   "source": [
    "prehook.execute()"
   ]
  }
 ],
 "metadata": {
  "kernelspec": {
   "display_name": "gpu_38",
   "language": "python",
   "name": "python3"
  },
  "language_info": {
   "codemirror_mode": {
    "name": "ipython",
    "version": 3
   },
   "file_extension": ".py",
   "mimetype": "text/x-python",
   "name": "python",
   "nbconvert_exporter": "python",
   "pygments_lexer": "ipython3",
   "version": "3.9.18"
  },
  "orig_nbformat": 4
 },
 "nbformat": 4,
 "nbformat_minor": 2
}

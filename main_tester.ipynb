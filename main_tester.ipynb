{
 "cells": [
  {
   "cell_type": "code",
   "execution_count": 1,
   "metadata": {},
   "outputs": [],
   "source": [
    "from data_handler import return_create_statement_from_dataframe\n",
    "import pandas as pd\n",
    "from db_handler import create_connection,execute_query, close_connection\n",
    "from data_handler import insert_statements_from_dataframe,extract_data_into_df,create_etl_watermark_table,insert_data_in_batches\n",
    "from data_handler import execute_sql_script_from_config\n",
    "from lookups import FileType\n",
    "from prehook import return_csv_list,create_staging_tables\n",
    "import prehook\n",
    "\n",
    "db_session = create_connection()"
   ]
  },
  {
   "cell_type": "code",
   "execution_count": 4,
   "metadata": {},
   "outputs": [
    {
     "name": "stdout",
     "output_type": "stream",
     "text": [
      "SQL script executed successfully.\n",
      "SQL script executed successfully.\n"
     ]
    }
   ],
   "source": [
    "execute_sql_script_from_config('SQL_Commands/Create_Staging_Tables.sql')\n",
    "execute_sql_script_from_config('SQL_Commands/V15_hook_create_agg_playlist.sql')\n"
   ]
  },
  {
   "cell_type": "code",
   "execution_count": 5,
   "metadata": {},
   "outputs": [
    {
     "ename": "FileNotFoundError",
     "evalue": "[Errno 2] No such file or directory: 'C:\\\\dataproject\\\\users_dataset.xlsx'",
     "output_type": "error",
     "traceback": [
      "\u001b[1;31m---------------------------------------------------------------------------\u001b[0m",
      "\u001b[1;31mFileNotFoundError\u001b[0m                         Traceback (most recent call last)",
      "\u001b[1;32mc:\\Data_project\\main_tester.ipynb Cell 3\u001b[0m line \u001b[0;36m2\n\u001b[0;32m     <a href='vscode-notebook-cell:/c%3A/Data_project/main_tester.ipynb#W2sZmlsZQ%3D%3D?line=21'>22</a>\u001b[0m         insert_statements\u001b[39m.\u001b[39mappend(insert_statement)\n\u001b[0;32m     <a href='vscode-notebook-cell:/c%3A/Data_project/main_tester.ipynb#W2sZmlsZQ%3D%3D?line=23'>24</a>\u001b[0m     \u001b[39mreturn\u001b[39;00m insert_statements\n\u001b[1;32m---> <a href='vscode-notebook-cell:/c%3A/Data_project/main_tester.ipynb#W2sZmlsZQ%3D%3D?line=25'>26</a>\u001b[0m df2 \u001b[39m=\u001b[39m pd\u001b[39m.\u001b[39;49mread_excel(\u001b[39m\"\u001b[39;49m\u001b[39mC:\u001b[39;49m\u001b[39m\\\\\u001b[39;49;00m\u001b[39mdataproject\u001b[39;49m\u001b[39m\\\\\u001b[39;49;00m\u001b[39musers_dataset.xlsx\u001b[39;49m\u001b[39m\"\u001b[39;49m)\n\u001b[0;32m     <a href='vscode-notebook-cell:/c%3A/Data_project/main_tester.ipynb#W2sZmlsZQ%3D%3D?line=26'>27</a>\u001b[0m insert_statements \u001b[39m=\u001b[39m insert_statements_from_dataframe(df2, \u001b[39m'\u001b[39m\u001b[39mmusicschema\u001b[39m\u001b[39m'\u001b[39m, \u001b[39m'\u001b[39m\u001b[39mstg_kaggle_spotify_users\u001b[39m\u001b[39m'\u001b[39m)\n\u001b[0;32m     <a href='vscode-notebook-cell:/c%3A/Data_project/main_tester.ipynb#W2sZmlsZQ%3D%3D?line=28'>29</a>\u001b[0m \u001b[39mwith\u001b[39;00m db_session\u001b[39m.\u001b[39mcursor() \u001b[39mas\u001b[39;00m cursor:\n",
      "File \u001b[1;32mc:\\anaconda\\envs\\Usj_dataproj\\lib\\site-packages\\pandas\\io\\excel\\_base.py:504\u001b[0m, in \u001b[0;36mread_excel\u001b[1;34m(io, sheet_name, header, names, index_col, usecols, dtype, engine, converters, true_values, false_values, skiprows, nrows, na_values, keep_default_na, na_filter, verbose, parse_dates, date_parser, date_format, thousands, decimal, comment, skipfooter, storage_options, dtype_backend, engine_kwargs)\u001b[0m\n\u001b[0;32m    502\u001b[0m \u001b[39mif\u001b[39;00m \u001b[39mnot\u001b[39;00m \u001b[39misinstance\u001b[39m(io, ExcelFile):\n\u001b[0;32m    503\u001b[0m     should_close \u001b[39m=\u001b[39m \u001b[39mTrue\u001b[39;00m\n\u001b[1;32m--> 504\u001b[0m     io \u001b[39m=\u001b[39m ExcelFile(\n\u001b[0;32m    505\u001b[0m         io,\n\u001b[0;32m    506\u001b[0m         storage_options\u001b[39m=\u001b[39;49mstorage_options,\n\u001b[0;32m    507\u001b[0m         engine\u001b[39m=\u001b[39;49mengine,\n\u001b[0;32m    508\u001b[0m         engine_kwargs\u001b[39m=\u001b[39;49mengine_kwargs,\n\u001b[0;32m    509\u001b[0m     )\n\u001b[0;32m    510\u001b[0m \u001b[39melif\u001b[39;00m engine \u001b[39mand\u001b[39;00m engine \u001b[39m!=\u001b[39m io\u001b[39m.\u001b[39mengine:\n\u001b[0;32m    511\u001b[0m     \u001b[39mraise\u001b[39;00m \u001b[39mValueError\u001b[39;00m(\n\u001b[0;32m    512\u001b[0m         \u001b[39m\"\u001b[39m\u001b[39mEngine should not be specified when passing \u001b[39m\u001b[39m\"\u001b[39m\n\u001b[0;32m    513\u001b[0m         \u001b[39m\"\u001b[39m\u001b[39man ExcelFile - ExcelFile already has the engine set\u001b[39m\u001b[39m\"\u001b[39m\n\u001b[0;32m    514\u001b[0m     )\n",
      "File \u001b[1;32mc:\\anaconda\\envs\\Usj_dataproj\\lib\\site-packages\\pandas\\io\\excel\\_base.py:1563\u001b[0m, in \u001b[0;36mExcelFile.__init__\u001b[1;34m(self, path_or_buffer, engine, storage_options, engine_kwargs)\u001b[0m\n\u001b[0;32m   1561\u001b[0m     ext \u001b[39m=\u001b[39m \u001b[39m\"\u001b[39m\u001b[39mxls\u001b[39m\u001b[39m\"\u001b[39m\n\u001b[0;32m   1562\u001b[0m \u001b[39melse\u001b[39;00m:\n\u001b[1;32m-> 1563\u001b[0m     ext \u001b[39m=\u001b[39m inspect_excel_format(\n\u001b[0;32m   1564\u001b[0m         content_or_path\u001b[39m=\u001b[39;49mpath_or_buffer, storage_options\u001b[39m=\u001b[39;49mstorage_options\n\u001b[0;32m   1565\u001b[0m     )\n\u001b[0;32m   1566\u001b[0m     \u001b[39mif\u001b[39;00m ext \u001b[39mis\u001b[39;00m \u001b[39mNone\u001b[39;00m:\n\u001b[0;32m   1567\u001b[0m         \u001b[39mraise\u001b[39;00m \u001b[39mValueError\u001b[39;00m(\n\u001b[0;32m   1568\u001b[0m             \u001b[39m\"\u001b[39m\u001b[39mExcel file format cannot be determined, you must specify \u001b[39m\u001b[39m\"\u001b[39m\n\u001b[0;32m   1569\u001b[0m             \u001b[39m\"\u001b[39m\u001b[39man engine manually.\u001b[39m\u001b[39m\"\u001b[39m\n\u001b[0;32m   1570\u001b[0m         )\n",
      "File \u001b[1;32mc:\\anaconda\\envs\\Usj_dataproj\\lib\\site-packages\\pandas\\io\\excel\\_base.py:1419\u001b[0m, in \u001b[0;36minspect_excel_format\u001b[1;34m(content_or_path, storage_options)\u001b[0m\n\u001b[0;32m   1416\u001b[0m \u001b[39mif\u001b[39;00m \u001b[39misinstance\u001b[39m(content_or_path, \u001b[39mbytes\u001b[39m):\n\u001b[0;32m   1417\u001b[0m     content_or_path \u001b[39m=\u001b[39m BytesIO(content_or_path)\n\u001b[1;32m-> 1419\u001b[0m \u001b[39mwith\u001b[39;00m get_handle(\n\u001b[0;32m   1420\u001b[0m     content_or_path, \u001b[39m\"\u001b[39;49m\u001b[39mrb\u001b[39;49m\u001b[39m\"\u001b[39;49m, storage_options\u001b[39m=\u001b[39;49mstorage_options, is_text\u001b[39m=\u001b[39;49m\u001b[39mFalse\u001b[39;49;00m\n\u001b[0;32m   1421\u001b[0m ) \u001b[39mas\u001b[39;00m handle:\n\u001b[0;32m   1422\u001b[0m     stream \u001b[39m=\u001b[39m handle\u001b[39m.\u001b[39mhandle\n\u001b[0;32m   1423\u001b[0m     stream\u001b[39m.\u001b[39mseek(\u001b[39m0\u001b[39m)\n",
      "File \u001b[1;32mc:\\anaconda\\envs\\Usj_dataproj\\lib\\site-packages\\pandas\\io\\common.py:872\u001b[0m, in \u001b[0;36mget_handle\u001b[1;34m(path_or_buf, mode, encoding, compression, memory_map, is_text, errors, storage_options)\u001b[0m\n\u001b[0;32m    863\u001b[0m         handle \u001b[39m=\u001b[39m \u001b[39mopen\u001b[39m(\n\u001b[0;32m    864\u001b[0m             handle,\n\u001b[0;32m    865\u001b[0m             ioargs\u001b[39m.\u001b[39mmode,\n\u001b[1;32m   (...)\u001b[0m\n\u001b[0;32m    868\u001b[0m             newline\u001b[39m=\u001b[39m\u001b[39m\"\u001b[39m\u001b[39m\"\u001b[39m,\n\u001b[0;32m    869\u001b[0m         )\n\u001b[0;32m    870\u001b[0m     \u001b[39melse\u001b[39;00m:\n\u001b[0;32m    871\u001b[0m         \u001b[39m# Binary mode\u001b[39;00m\n\u001b[1;32m--> 872\u001b[0m         handle \u001b[39m=\u001b[39m \u001b[39mopen\u001b[39;49m(handle, ioargs\u001b[39m.\u001b[39;49mmode)\n\u001b[0;32m    873\u001b[0m     handles\u001b[39m.\u001b[39mappend(handle)\n\u001b[0;32m    875\u001b[0m \u001b[39m# Convert BytesIO or file objects passed with an encoding\u001b[39;00m\n",
      "\u001b[1;31mFileNotFoundError\u001b[0m: [Errno 2] No such file or directory: 'C:\\\\dataproject\\\\users_dataset.xlsx'"
     ]
    }
   ],
   "source": [
    "def insert_statements_from_dataframe(dataframe, schema_name, table_name):\n",
    "    insert_statements = []\n",
    "\n",
    "    for _, row in dataframe.iterrows():\n",
    "        formatted_row = []\n",
    "\n",
    "        for value in row:\n",
    "            if pd.notna(value):\n",
    "                if isinstance(value, str):\n",
    "                    formatted_value = value.replace(\"'\", \"''\")\n",
    "                    formatted_row.append(f\"'{formatted_value}'\")\n",
    "                elif isinstance(value, pd.Timestamp):\n",
    "                    formatted_row.append(f\"'{value}'\")\n",
    "                else:\n",
    "                    formatted_row.append(str(value))\n",
    "            else:\n",
    "                formatted_row.append('NULL')\n",
    "\n",
    "        values = ', '.join(formatted_row)\n",
    "        columns = ', '.join(dataframe.columns)\n",
    "        insert_statement = f\"INSERT INTO {schema_name}.{table_name} ({columns}) VALUES ({values});\"\n",
    "        insert_statements.append(insert_statement)\n",
    "\n",
    "    return insert_statements\n",
    "\n",
    "df2 = pd.read_excel(\"C:\\\\dataproject\\\\users_dataset.xlsx\")\n",
    "insert_statements = insert_statements_from_dataframe(df2, 'musicschema', 'stg_kaggle_spotify_users')\n",
    "\n",
    "with db_session.cursor() as cursor:\n",
    "    for statement in insert_statements:\n",
    "        cursor.execute(statement)\n",
    "\n",
    "# Commit the changes\n",
    "db_session.commit()\n",
    "\n"
   ]
  },
  {
   "cell_type": "code",
   "execution_count": null,
   "metadata": {},
   "outputs": [
    {
     "ename": "UniqueViolation",
     "evalue": "duplicate key value violates unique constraint \"stg_kaggle_spotify_tracks_pkey\"\nDETAIL:  Key (track_id)=(3121) already exists.\n",
     "output_type": "error",
     "traceback": [
      "\u001b[1;31m---------------------------------------------------------------------------\u001b[0m",
      "\u001b[1;31mUniqueViolation\u001b[0m                           Traceback (most recent call last)",
      "\u001b[1;32mc:\\Users\\Admin\\Venus-Repo\\main_tester.ipynb Cell 4\u001b[0m line \u001b[0;36m3\n\u001b[0;32m     <a href='vscode-notebook-cell:/c%3A/Users/Admin/Venus-Repo/main_tester.ipynb#W1sZmlsZQ%3D%3D?line=30'>31</a>\u001b[0m \u001b[39mwith\u001b[39;00m db_session\u001b[39m.\u001b[39mcursor() \u001b[39mas\u001b[39;00m cursor:\n\u001b[0;32m     <a href='vscode-notebook-cell:/c%3A/Users/Admin/Venus-Repo/main_tester.ipynb#W1sZmlsZQ%3D%3D?line=31'>32</a>\u001b[0m     \u001b[39mfor\u001b[39;00m statement \u001b[39min\u001b[39;00m insert_statements:\n\u001b[1;32m---> <a href='vscode-notebook-cell:/c%3A/Users/Admin/Venus-Repo/main_tester.ipynb#W1sZmlsZQ%3D%3D?line=32'>33</a>\u001b[0m         cursor\u001b[39m.\u001b[39;49mexecute(statement)\n\u001b[0;32m     <a href='vscode-notebook-cell:/c%3A/Users/Admin/Venus-Repo/main_tester.ipynb#W1sZmlsZQ%3D%3D?line=34'>35</a>\u001b[0m \u001b[39m# Commit the changes\u001b[39;00m\n\u001b[0;32m     <a href='vscode-notebook-cell:/c%3A/Users/Admin/Venus-Repo/main_tester.ipynb#W1sZmlsZQ%3D%3D?line=35'>36</a>\u001b[0m db_session\u001b[39m.\u001b[39mcommit()\n",
      "\u001b[1;31mUniqueViolation\u001b[0m: duplicate key value violates unique constraint \"stg_kaggle_spotify_tracks_pkey\"\nDETAIL:  Key (track_id)=(3121) already exists.\n"
     ]
    }
   ],
   "source": [
    "def insert_statements_from_dataframe(dataframe, schema_name, table_name):\n",
    "    insert_statements = []\n",
    "\n",
    "    for _, row in dataframe.iterrows():\n",
    "        formatted_row = []\n",
    "\n",
    "        for value in row:\n",
    "            if pd.notna(value):\n",
    "                if isinstance(value, str):\n",
    "                    formatted_value = value.replace(\"'\", \"''\")\n",
    "                    formatted_row.append(f\"'{formatted_value}'\")\n",
    "                elif isinstance(value, pd.Timestamp):\n",
    "                    formatted_row.append(f\"'{value}'\")\n",
    "                else:\n",
    "                    formatted_row.append(str(value))\n",
    "            else:\n",
    "                formatted_row.append('NULL')\n",
    "\n",
    "        values = ', '.join(formatted_row)\n",
    "        columns = ', '.join(dataframe.columns)\n",
    "        insert_statement = f\"INSERT INTO {schema_name}.{table_name} ({columns}) VALUES ({values});\"\n",
    "        insert_statements.append(insert_statement)\n",
    "\n",
    "    return insert_statements\n",
    "\n",
    "df2 = pd.read_excel(\"C:\\\\dataproject\\\\songs_dataset.xlsx\")\n",
    "insert_statements = insert_statements_from_dataframe(df2, 'musicschema', 'stg_kaggle_spotify_tracks')\n",
    "\n",
    "with db_session.cursor() as cursor:\n",
    "    for statement in insert_statements:\n",
    "        cursor.execute(statement)\n",
    "\n",
    "# Commit the changes\n",
    "db_session.commit()\n",
    "\n"
   ]
  },
  {
   "cell_type": "code",
   "execution_count": null,
   "metadata": {},
   "outputs": [],
   "source": [
    "import psycopg2\n",
    "import json\n",
    "\n",
    "file = 'SQL_Commands/V2_prehook_Create_ETL_watermark_table.sql'\n",
    "#execute_sql_statements(db_session,file)\n",
    "\n",
    "# Load database connection details from config.json\n",
    "with open('config.json') as config_file:\n",
    "    config_data = json.load(config_file)\n",
    "\n",
    "# Connect to the PostgreSQL database\n",
    "conn = psycopg2.connect(\n",
    "    dbname=config_data['database'],\n",
    "    user=config_data['user'],\n",
    "    password=config_data['password'],\n",
    "    host=config_data['host'],\n",
    "    port=config_data['port']\n",
    ")\n",
    "\n",
    "# Create a cursor object\n",
    "cursor = conn.cursor()\n",
    "\n",
    "# Read the SQL file\n",
    "with open('SQL_Commands/V2_prehook_Create_ETL_watermark_table.sql', 'r') as sql_file:\n",
    "    sql_script = sql_file.read()\n",
    "\n",
    "# Execute the SQL script\n",
    "cursor.execute(sql_script)\n",
    "\n",
    "# Commit the changes\n",
    "conn.commit()\n",
    "\n",
    "# Close the connection\n",
    "conn.close()\n"
   ]
  }
 ],
 "metadata": {
  "kernelspec": {
   "display_name": "gpu_38",
   "language": "python",
   "name": "python3"
  },
  "language_info": {
   "codemirror_mode": {
    "name": "ipython",
    "version": 3
   },
   "file_extension": ".py",
   "mimetype": "text/x-python",
   "name": "python",
   "nbconvert_exporter": "python",
   "pygments_lexer": "ipython3",
   "version": "3.9.18"
  },
  "orig_nbformat": 4
 },
 "nbformat": 4,
 "nbformat_minor": 2
}

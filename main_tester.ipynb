{
 "cells": [
  {
   "cell_type": "code",
   "execution_count": 175,
   "metadata": {},
   "outputs": [],
   "source": [
    "from data_handler import return_create_statement_from_dataframe\n",
    "import pandas as pd\n",
    "from db_handler import create_connection,execute_query, close_connection\n",
    "from data_handler import insert_statements_from_dataframe,extract_data_into_df,create_etl_watermark_table,insert_data_in_batches\n",
    "from data_handler import execute_sql_script_from_config\n",
    "from lookups import FileType\n",
    "from prehook import return_csv_list,create_staging_tables\n",
    "import prehook\n",
    "\n",
    "db_session = create_connection()"
   ]
  },
  {
   "cell_type": "code",
   "execution_count": 176,
   "metadata": {},
   "outputs": [
    {
     "name": "stdout",
     "output_type": "stream",
     "text": [
      "Error executing SQL script: relation \"stg_kaggle_spotify_tracks\" already exists\n",
      "\n",
      "SQL script executed successfully.\n"
     ]
    }
   ],
   "source": [
    "execute_sql_script_from_config('SQL_Commands/Create_Staging_Tables.sql')\n",
    "execute_sql_script_from_config('SQL_Commands/V10_hook_create_agg_playlist.sql')\n"
   ]
  },
  {
   "cell_type": "code",
   "execution_count": 177,
   "metadata": {},
   "outputs": [
    {
     "ename": "UniqueViolation",
     "evalue": "duplicate key value violates unique constraint \"stg_kaggle_spotify_users_pkey\"\nDETAIL:  Key (id)=(20000) already exists.\n",
     "output_type": "error",
     "traceback": [
      "\u001b[1;31m---------------------------------------------------------------------------\u001b[0m",
      "\u001b[1;31mUniqueViolation\u001b[0m                           Traceback (most recent call last)",
      "\u001b[1;32mc:\\Users\\Admin\\Venus-Repo\\main_tester.ipynb Cell 3\u001b[0m line \u001b[0;36m3\n\u001b[0;32m     <a href='vscode-notebook-cell:/c%3A/Users/Admin/Venus-Repo/main_tester.ipynb#X20sZmlsZQ%3D%3D?line=30'>31</a>\u001b[0m \u001b[39mwith\u001b[39;00m db_session\u001b[39m.\u001b[39mcursor() \u001b[39mas\u001b[39;00m cursor:\n\u001b[0;32m     <a href='vscode-notebook-cell:/c%3A/Users/Admin/Venus-Repo/main_tester.ipynb#X20sZmlsZQ%3D%3D?line=31'>32</a>\u001b[0m     \u001b[39mfor\u001b[39;00m statement \u001b[39min\u001b[39;00m insert_statements:\n\u001b[1;32m---> <a href='vscode-notebook-cell:/c%3A/Users/Admin/Venus-Repo/main_tester.ipynb#X20sZmlsZQ%3D%3D?line=32'>33</a>\u001b[0m         cursor\u001b[39m.\u001b[39;49mexecute(statement)\n\u001b[0;32m     <a href='vscode-notebook-cell:/c%3A/Users/Admin/Venus-Repo/main_tester.ipynb#X20sZmlsZQ%3D%3D?line=34'>35</a>\u001b[0m \u001b[39m# Commit the changes\u001b[39;00m\n\u001b[0;32m     <a href='vscode-notebook-cell:/c%3A/Users/Admin/Venus-Repo/main_tester.ipynb#X20sZmlsZQ%3D%3D?line=35'>36</a>\u001b[0m db_session\u001b[39m.\u001b[39mcommit()\n",
      "\u001b[1;31mUniqueViolation\u001b[0m: duplicate key value violates unique constraint \"stg_kaggle_spotify_users_pkey\"\nDETAIL:  Key (id)=(20000) already exists.\n"
     ]
    }
   ],
   "source": [
    "def insert_statements_from_dataframe(dataframe, schema_name, table_name):\n",
    "    insert_statements = []\n",
    "\n",
    "    for _, row in dataframe.iterrows():\n",
    "        formatted_row = []\n",
    "\n",
    "        for value in row:\n",
    "            if pd.notna(value):\n",
    "                if isinstance(value, str):\n",
    "                    formatted_value = value.replace(\"'\", \"''\")\n",
    "                    formatted_row.append(f\"'{formatted_value}'\")\n",
    "                elif isinstance(value, pd.Timestamp):\n",
    "                    formatted_row.append(f\"'{value}'\")\n",
    "                else:\n",
    "                    formatted_row.append(str(value))\n",
    "            else:\n",
    "                formatted_row.append('NULL')\n",
    "\n",
    "        values = ', '.join(formatted_row)\n",
    "        columns = ', '.join(dataframe.columns)\n",
    "        insert_statement = f\"INSERT INTO {schema_name}.{table_name} ({columns}) VALUES ({values});\"\n",
    "        insert_statements.append(insert_statement)\n",
    "\n",
    "    return insert_statements\n",
    "\n",
    "df2 = pd.read_excel(\"C:\\\\dataproject\\\\users_dataset.xlsx\")\n",
    "insert_statements = insert_statements_from_dataframe(df2, 'musicschema', 'stg_kaggle_spotify_users')\n",
    "\n",
    "with db_session.cursor() as cursor:\n",
    "    for statement in insert_statements:\n",
    "        cursor.execute(statement)\n",
    "\n",
    "# Commit the changes\n",
    "db_session.commit()\n",
    "\n"
   ]
  },
  {
   "cell_type": "code",
   "execution_count": null,
   "metadata": {},
   "outputs": [
    {
     "ename": "UniqueViolation",
     "evalue": "duplicate key value violates unique constraint \"stg_kaggle_spotify_tracks_pkey\"\nDETAIL:  Key (track_id)=(3121) already exists.\n",
     "output_type": "error",
     "traceback": [
      "\u001b[1;31m---------------------------------------------------------------------------\u001b[0m",
      "\u001b[1;31mUniqueViolation\u001b[0m                           Traceback (most recent call last)",
      "\u001b[1;32mc:\\Users\\Admin\\Venus-Repo\\main_tester.ipynb Cell 4\u001b[0m line \u001b[0;36m3\n\u001b[0;32m     <a href='vscode-notebook-cell:/c%3A/Users/Admin/Venus-Repo/main_tester.ipynb#W1sZmlsZQ%3D%3D?line=30'>31</a>\u001b[0m \u001b[39mwith\u001b[39;00m db_session\u001b[39m.\u001b[39mcursor() \u001b[39mas\u001b[39;00m cursor:\n\u001b[0;32m     <a href='vscode-notebook-cell:/c%3A/Users/Admin/Venus-Repo/main_tester.ipynb#W1sZmlsZQ%3D%3D?line=31'>32</a>\u001b[0m     \u001b[39mfor\u001b[39;00m statement \u001b[39min\u001b[39;00m insert_statements:\n\u001b[1;32m---> <a href='vscode-notebook-cell:/c%3A/Users/Admin/Venus-Repo/main_tester.ipynb#W1sZmlsZQ%3D%3D?line=32'>33</a>\u001b[0m         cursor\u001b[39m.\u001b[39;49mexecute(statement)\n\u001b[0;32m     <a href='vscode-notebook-cell:/c%3A/Users/Admin/Venus-Repo/main_tester.ipynb#W1sZmlsZQ%3D%3D?line=34'>35</a>\u001b[0m \u001b[39m# Commit the changes\u001b[39;00m\n\u001b[0;32m     <a href='vscode-notebook-cell:/c%3A/Users/Admin/Venus-Repo/main_tester.ipynb#W1sZmlsZQ%3D%3D?line=35'>36</a>\u001b[0m db_session\u001b[39m.\u001b[39mcommit()\n",
      "\u001b[1;31mUniqueViolation\u001b[0m: duplicate key value violates unique constraint \"stg_kaggle_spotify_tracks_pkey\"\nDETAIL:  Key (track_id)=(3121) already exists.\n"
     ]
    }
   ],
   "source": [
    "def insert_statements_from_dataframe(dataframe, schema_name, table_name):\n",
    "    insert_statements = []\n",
    "\n",
    "    for _, row in dataframe.iterrows():\n",
    "        formatted_row = []\n",
    "\n",
    "        for value in row:\n",
    "            if pd.notna(value):\n",
    "                if isinstance(value, str):\n",
    "                    formatted_value = value.replace(\"'\", \"''\")\n",
    "                    formatted_row.append(f\"'{formatted_value}'\")\n",
    "                elif isinstance(value, pd.Timestamp):\n",
    "                    formatted_row.append(f\"'{value}'\")\n",
    "                else:\n",
    "                    formatted_row.append(str(value))\n",
    "            else:\n",
    "                formatted_row.append('NULL')\n",
    "\n",
    "        values = ', '.join(formatted_row)\n",
    "        columns = ', '.join(dataframe.columns)\n",
    "        insert_statement = f\"INSERT INTO {schema_name}.{table_name} ({columns}) VALUES ({values});\"\n",
    "        insert_statements.append(insert_statement)\n",
    "\n",
    "    return insert_statements\n",
    "\n",
    "df2 = pd.read_excel(\"C:\\\\dataproject\\\\songs_dataset.xlsx\")\n",
    "insert_statements = insert_statements_from_dataframe(df2, 'musicschema', 'stg_kaggle_spotify_tracks')\n",
    "\n",
    "with db_session.cursor() as cursor:\n",
    "    for statement in insert_statements:\n",
    "        cursor.execute(statement)\n",
    "\n",
    "# Commit the changes\n",
    "db_session.commit()\n",
    "\n"
   ]
  },
  {
   "cell_type": "code",
   "execution_count": null,
   "metadata": {},
   "outputs": [],
   "source": [
    "import psycopg2\n",
    "import json\n",
    "\n",
    "file = 'SQL_Commands/V2_prehook_Create_ETL_watermark_table.sql'\n",
    "#execute_sql_statements(db_session,file)\n",
    "\n",
    "# Load database connection details from config.json\n",
    "with open('config.json') as config_file:\n",
    "    config_data = json.load(config_file)\n",
    "\n",
    "# Connect to the PostgreSQL database\n",
    "conn = psycopg2.connect(\n",
    "    dbname=config_data['database'],\n",
    "    user=config_data['user'],\n",
    "    password=config_data['password'],\n",
    "    host=config_data['host'],\n",
    "    port=config_data['port']\n",
    ")\n",
    "\n",
    "# Create a cursor object\n",
    "cursor = conn.cursor()\n",
    "\n",
    "# Read the SQL file\n",
    "with open('SQL_Commands/V2_prehook_Create_ETL_watermark_table.sql', 'r') as sql_file:\n",
    "    sql_script = sql_file.read()\n",
    "\n",
    "# Execute the SQL script\n",
    "cursor.execute(sql_script)\n",
    "\n",
    "# Commit the changes\n",
    "conn.commit()\n",
    "\n",
    "# Close the connection\n",
    "conn.close()\n"
   ]
  }
 ],
 "metadata": {
  "kernelspec": {
   "display_name": "gpu_38",
   "language": "python",
   "name": "python3"
  },
  "language_info": {
   "codemirror_mode": {
    "name": "ipython",
    "version": 3
   },
   "file_extension": ".py",
   "mimetype": "text/x-python",
   "name": "python",
   "nbconvert_exporter": "python",
   "pygments_lexer": "ipython3",
   "version": "3.9.18"
  },
  "orig_nbformat": 4
 },
 "nbformat": 4,
 "nbformat_minor": 2
}

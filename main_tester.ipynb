{
 "cells": [
  {
   "cell_type": "code",
   "execution_count": 21,
   "metadata": {},
   "outputs": [],
   "source": [
    "from data_handler import return_create_statement_from_dataframe\n",
    "import pandas as pd\n",
    "from db_handler import create_connection,execute_query, close_connection\n",
    "from data_handler import insert_statements_from_dataframe,extract_data_into_df,create_etl_watermark_table,insert_data_in_batches\n",
    "from lookups import FileType\n",
    "from prehook import return_csv_list,create_staging_tables\n",
    "import prehook\n",
    "\n",
    "db_session = create_connection()"
   ]
  },
  {
   "cell_type": "code",
   "execution_count": 22,
   "metadata": {},
   "outputs": [],
   "source": [
    "\n",
    "stg_users_dataframe = pd.DataFrame({\n",
    "     \"age\": [25, 30, 35],\n",
    "     \"gender\": ['Male', 'Female', 'Male'],\n",
    "     \"fav_music_genre\": ['Pop', 'Rock', 'Hip-Hop'],\n",
    "     \"music_time_slot\": ['Morning', 'Evening', 'Afternoon'],\n",
    "     \"music_lis_frequency\": ['Daily', 'Weekly', 'Monthly'],\n",
    "     \"music_satisfaction\": ['High', 'Medium', 'Low']\n",
    " })\n",
    "\n",
    "stg_songs_dataframe = pd.DataFrame({\n",
    "     \"track_id\": [1, 2, 3],\n",
    "     \"track_name\": [\"Song1\", \"Song2\", \"Song3\"],\n",
    "     \"track_artist\": [\"Artist1\", \"Artist2\", \"Artist3\"],\n",
    "     \"track_popularity\": [80, 90, 70],\n",
    "     \"track_album_id\": [101, 102, 103],\n",
    "     \"track_album_name\": [\"Album1\", \"Album2\", \"Album3\"],\n",
    "     \"track_album_release_date\": [\"2022-01-01\", \"2022-02-01\", \"2022-03-01\"],\n",
    "     \"playlist_name\": [\"Playlist1\", \"Playlist2\", \"Playlist3\"],\n",
    "     \"playlist_id\": [201, 202, 203],\n",
    "     \"playlist_genre\": [\"Genre1\", \"Genre2\", \"Genre3\"],\n",
    "     \"energy\": [0.8, 0.7, 0.6],\n",
    "     \"key\": [1, 2, 3],\n",
    "     \"loudness\": [-5.0, -6.0, -7.0],\n",
    "     \"mode\": [0, 1, 0],\n",
    "     \"speechiness\": [0.1, 0.2, 0.3],\n",
    "     \"valence\": [0.7, 0.6, 0.5],\n",
    "     \"tempo\": [120, 130, 140],\n",
    "     \"duration_ms\": [240000, 250000, 260000]\n",
    " })\n"
   ]
  },
  {
   "cell_type": "code",
   "execution_count": 23,
   "metadata": {},
   "outputs": [
    {
     "name": "stdout",
     "output_type": "stream",
     "text": [
      "INSERT INTO musicschema.stg_kaggle_spotify_users (age, gender, fav_music_genre, music_time_slot, music_lis_frequency, music_satisfaction) VALUES (25, 'Male', 'Pop', 'Morning', 'Daily', 'High');\n",
      "INSERT INTO musicschema.stg_kaggle_spotify_users (age, gender, fav_music_genre, music_time_slot, music_lis_frequency, music_satisfaction) VALUES (30, 'Female', 'Rock', 'Evening', 'Weekly', 'Medium');\n",
      "INSERT INTO musicschema.stg_kaggle_spotify_users (age, gender, fav_music_genre, music_time_slot, music_lis_frequency, music_satisfaction) VALUES (35, 'Male', 'Hip-Hop', 'Afternoon', 'Monthly', 'Low');\n"
     ]
    }
   ],
   "source": [
    "\n",
    "stg_users_table_name = \"stg_kaggle_spotify_users\"\n",
    "stg_users_schema_name = 'musicschema' \n",
    "stg_users_create_statement = return_create_statement_from_dataframe(\n",
    "stg_users_dataframe, stg_users_schema_name, stg_users_table_name)\n",
    "\n",
    "query = insert_statements_from_dataframe(stg_users_dataframe,stg_users_schema_name ,stg_users_table_name)\n",
    "\n",
    "for statement in query:\n",
    "    execute_query(db_session, statement)\n",
    "    print(statement)\n",
    "    \n",
    "stg_songs_table_name = 'stg_kaggle_spotify_songs'\n",
    "stg_songs_schema_name = 'musicschema'  \n",
    "stg_songs_create_statement = return_create_statement_from_dataframe(\n",
    "stg_songs_dataframe, stg_songs_schema_name, stg_songs_table_name)\n",
    "\n",
    "execute_query(conn= db_session, query= stg_users_create_statement)\n",
    "\n",
    "execute_query(conn= db_session, query= stg_songs_create_statement)"
   ]
  },
  {
   "cell_type": "code",
   "execution_count": 24,
   "metadata": {},
   "outputs": [],
   "source": [
    "from enum import Enum\n",
    "\n",
    "class FileType(Enum):\n",
    "    CSV = 1\n",
    "\n",
    "datatype = FileType.CSV\n",
    "datapath = \"C:\\\\dataproject\\\\songs_dataset.csv\"\n",
    "df = extract_data_into_df(datatype,datapath)\n",
    "df\n",
    "#datapath2 = \"C:\\\\dataproject\\\\users_dataset.csv\"\n"
   ]
  },
  {
   "cell_type": "code",
   "execution_count": 25,
   "metadata": {},
   "outputs": [],
   "source": [
    "# Create Dimension Tables\n",
    "dim_users_data = stg_users_dataframe[[\"age\", \"gender\", \"fav_music_genre\", \"music_time_slot\", \"music_lis_frequency\", \"music_satisfaction\"]]\n",
    "dim_songs_data = stg_songs_dataframe[[\"track_id\", \"track_name\", \"track_artist\", \"playlist_genre\"]]\n",
    "dim_genre_data = stg_songs_dataframe[[\"playlist_genre\"]]\n",
    "\n",
    "dim_users_table_name = \"Dim_users\"\n",
    "dim_songs_table_name = \"Dim_songs\"\n",
    "dim_genre_table_name = \"Dim_genre\"\n",
    "\n",
    "schema = 'musicschema'\n",
    "\n",
    "# Execute create statements for dimension tables\n",
    "execute_query(conn=db_session, query=return_create_statement_from_dataframe(\n",
    "    dim_users_data, schema, dim_users_table_name))\n",
    "\n",
    "execute_query(conn=db_session, query=return_create_statement_from_dataframe(\n",
    "    dim_songs_data, schema, dim_songs_table_name))\n",
    "\n",
    "execute_query(conn=db_session, query=return_create_statement_from_dataframe(\n",
    "    dim_genre_data, schema, dim_genre_table_name))\n"
   ]
  },
  {
   "cell_type": "code",
   "execution_count": 26,
   "metadata": {},
   "outputs": [
    {
     "name": "stderr",
     "output_type": "stream",
     "text": [
      "C:\\Users\\Pamela Bou Khalil\\AppData\\Local\\Temp\\ipykernel_24964\\3298915897.py:3: SettingWithCopyWarning: \n",
      "A value is trying to be set on a copy of a slice from a DataFrame.\n",
      "Try using .loc[row_indexer,col_indexer] = value instead\n",
      "\n",
      "See the caveats in the documentation: https://pandas.pydata.org/pandas-docs/stable/user_guide/indexing.html#returning-a-view-versus-a-copy\n",
      "  fact_user_genre_data[\"total_users\"] = 1\n",
      "C:\\Users\\Pamela Bou Khalil\\AppData\\Local\\Temp\\ipykernel_24964\\3298915897.py:7: SettingWithCopyWarning: \n",
      "A value is trying to be set on a copy of a slice from a DataFrame.\n",
      "Try using .loc[row_indexer,col_indexer] = value instead\n",
      "\n",
      "See the caveats in the documentation: https://pandas.pydata.org/pandas-docs/stable/user_guide/indexing.html#returning-a-view-versus-a-copy\n",
      "  fact_song_genre_data[\"total_songs\"] = 1\n"
     ]
    }
   ],
   "source": [
    "# Create Fact Tables\n",
    "fact_user_genre_data = stg_users_dataframe[[\"age\", \"gender\", \"fav_music_genre\"]]\n",
    "fact_user_genre_data[\"total_users\"] = 1\n",
    "fact_user_genre_data = fact_user_genre_data.groupby([\"age\", \"gender\", \"fav_music_genre\"]).sum().reset_index()\n",
    "\n",
    "fact_song_genre_data = stg_songs_dataframe[[\"track_name\", \"track_artist\", \"playlist_genre\"]]\n",
    "fact_song_genre_data[\"total_songs\"] = 1\n",
    "fact_song_genre_data = fact_song_genre_data.groupby([\"track_name\", \"track_artist\", \"playlist_genre\"]).sum().reset_index()\n",
    "\n",
    "fact_user_genre_table_name = \"Fact_user_genre\"\n",
    "fact_song_genre_table_name = \"Fact_song_genre\"\n",
    "\n",
    "execute_query(conn=db_session, query=return_create_statement_from_dataframe(\n",
    "    fact_user_genre_data, schema, fact_user_genre_table_name))\n",
    "\n",
    "execute_query(conn=db_session, query=return_create_statement_from_dataframe(\n",
    "    fact_song_genre_data, schema, fact_song_genre_table_name))\n",
    "\n"
   ]
  },
  {
   "cell_type": "code",
   "execution_count": 27,
   "metadata": {},
   "outputs": [],
   "source": [
    "# 1. Total songs per genre\n",
    "total_songs_per_genre_data = stg_songs_dataframe.groupby(\"playlist_genre\").size().reset_index(name=\"total_songs\")\n",
    "total_songs_per_genre_table_name = \"Fact_total_songs_per_genre\"\n",
    "execute_query(conn=db_session, query=return_create_statement_from_dataframe(\n",
    "    total_songs_per_genre_data, schema, total_songs_per_genre_table_name))\n",
    "\n",
    "# 2. Total users per genre\n",
    "total_users_per_genre_data = stg_users_dataframe.groupby(\"fav_music_genre\").size().reset_index(name=\"total_users\")\n",
    "total_users_per_genre_table_name = \"Fact_total_users_per_genre\"\n",
    "execute_query(conn=db_session, query=return_create_statement_from_dataframe(\n",
    "    total_users_per_genre_data, schema, total_users_per_genre_table_name))\n",
    "\n",
    "# 3. Average listen time per genre (Assuming you have a \"duration_ms\" column in your SONGS table)\n",
    "average_listen_time_per_genre_data = stg_songs_dataframe.groupby(\"playlist_genre\")[\"duration_ms\"].mean().reset_index(name=\"average_listen_time\")\n",
    "average_listen_time_per_genre_table_name = \"Fact_average_listen_time_per_genre\"\n",
    "execute_query(conn=db_session, query=return_create_statement_from_dataframe(\n",
    "    average_listen_time_per_genre_data, schema, average_listen_time_per_genre_table_name))\n",
    "\n",
    "\n",
    "# 5. Age distribution per genre\n",
    "age_distribution_per_genre_data = stg_users_dataframe.groupby([\"fav_music_genre\", \"age\"]).size().reset_index(name=\"count\")\n",
    "age_distribution_per_genre_table_name = \"Fact_age_distribution_per_genre\"\n",
    "execute_query(conn=db_session, query=return_create_statement_from_dataframe(\n",
    "    age_distribution_per_genre_data, schema, age_distribution_per_genre_table_name))\n"
   ]
  },
  {
   "cell_type": "code",
   "execution_count": 28,
   "metadata": {},
   "outputs": [
    {
     "name": "stderr",
     "output_type": "stream",
     "text": [
      "C:\\Users\\Pamela Bou Khalil\\AppData\\Local\\Temp\\ipykernel_24964\\3565597171.py:3: SettingWithCopyWarning: \n",
      "A value is trying to be set on a copy of a slice from a DataFrame.\n",
      "Try using .loc[row_indexer,col_indexer] = value instead\n",
      "\n",
      "See the caveats in the documentation: https://pandas.pydata.org/pandas-docs/stable/user_guide/indexing.html#returning-a-view-versus-a-copy\n",
      "  agg_genre_data[\"total_songs\"] = 1\n"
     ]
    }
   ],
   "source": [
    "# Aggregate Tables\n",
    "agg_genre_data = stg_songs_dataframe[[\"playlist_genre\"]]\n",
    "agg_genre_data[\"total_songs\"] = 1\n",
    "agg_genre_data = agg_genre_data.groupby(\"playlist_genre\").sum().reset_index()\n",
    "\n",
    "agg_dim_genre_data = stg_songs_dataframe[[\"playlist_genre\"]]\n",
    "agg_dim_genre_data = agg_dim_genre_data.drop_duplicates()\n",
    "\n",
    "agg_total_songs_per_genre_table_name = \"agg_total_songs_per_genre\"\n",
    "agg_dim_genre_table_name = \"agg_dim_genre\"\n",
    "\n",
    "\n",
    "execute_query(conn=db_session, query=return_create_statement_from_dataframe(\n",
    "    agg_genre_data, schema, agg_total_songs_per_genre_table_name))\n",
    "\n"
   ]
  },
  {
   "cell_type": "code",
   "execution_count": 29,
   "metadata": {},
   "outputs": [],
   "source": [
    "# import prehook  \n",
    "\n",
    "# csv_list = prehook.return_csv_list()\n",
    "# staging_table_name = \"songs\"  # Replace with your desired staging table name\n",
    "\n",
    "# # Test the create_staging_tables function\n",
    "# prehook.create_staging_tables(csv_list, staging_table_name)\n"
   ]
  },
  {
   "cell_type": "code",
   "execution_count": 30,
   "metadata": {},
   "outputs": [
    {
     "name": "stdout",
     "output_type": "stream",
     "text": [
      "ETL watermark table created successfully.\n",
      "ETL watermark timestamp recorded.\n",
      "ETL watermark timestamp recorded.\n",
      "ETL watermark timestamp recorded.\n",
      "ETL watermark timestamp recorded.\n",
      "ETL watermark timestamp recorded.\n",
      "ETL watermark timestamp recorded.\n",
      "ETL watermark timestamp recorded.\n",
      "ETL watermark timestamp recorded.\n",
      "ETL watermark timestamp recorded.\n",
      "ETL watermark timestamp recorded.\n",
      "ETL watermark timestamp recorded.\n",
      "ETL watermark timestamp recorded.\n",
      "ETL watermark timestamp recorded.\n",
      "ETL watermark timestamp recorded.\n",
      "ETL watermark timestamp recorded.\n",
      "ETL watermark timestamp recorded.\n",
      "ETL watermark timestamp recorded.\n",
      "ETL watermark timestamp recorded.\n",
      "ETL watermark timestamp recorded.\n",
      "ETL watermark timestamp recorded.\n",
      "ETL watermark timestamp recorded.\n",
      "ETL watermark timestamp recorded.\n",
      "ETL watermark timestamp recorded.\n",
      "ETL watermark timestamp recorded.\n",
      "Data inserted successfully in batches.\n"
     ]
    }
   ],
   "source": [
    "watermark_table_sql_file =\"C:\\Data_project\\SQL_Commands\\V2_prehook_Create_ETL_watermark_table.sql\"\n",
    "data = pd.read_csv(\"C:\\dataproject\\songs_dataset.csv\")\n",
    "batch_size = 1000\n",
    "\n",
    "create_etl_watermark_table(db_session, watermark_table_sql_file)\n",
    "\n",
    "# Insert data in batches and record the ETL watermark timestamp\n",
    "insert_data_in_batches(data, stg_songs_schema_name, stg_songs_table_name, batch_size, 'etl_watermark')\n",
    "\n",
    "if db_session:\n",
    "    db_session.close()"
   ]
  }
 ],
 "metadata": {
  "kernelspec": {
   "display_name": "gpu_38",
   "language": "python",
   "name": "python3"
  },
  "language_info": {
   "codemirror_mode": {
    "name": "ipython",
    "version": 3
   },
   "file_extension": ".py",
   "mimetype": "text/x-python",
   "name": "python",
   "nbconvert_exporter": "python",
   "pygments_lexer": "ipython3",
   "version": "3.9.18"
  },
  "orig_nbformat": 4
 },
 "nbformat": 4,
 "nbformat_minor": 2
}

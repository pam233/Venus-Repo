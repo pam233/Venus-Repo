{
 "cells": [
  {
   "cell_type": "code",
   "execution_count": 16,
   "metadata": {},
   "outputs": [],
   "source": [
    "from data_handler import return_create_statement_from_dataframe\n",
    "import pandas as pd\n",
    "from db_handler import create_connection,execute_query, close_connection\n",
    "from data_handler import insert_statements_from_dataframe,extract_data_into_df\n",
    "from lookups import FileType\n",
    "from prehook import return_csv_list,create_staging_tables\n",
    "import prehook\n",
    "\n",
    "db_session = create_connection()"
   ]
  },
  {
   "cell_type": "code",
   "execution_count": 17,
   "metadata": {},
   "outputs": [],
   "source": [
    "\n",
    "stg_users_dataframe = pd.DataFrame({\n",
    "     \"age\": [25, 30, 35],\n",
    "     \"gender\": ['Male', 'Female', 'Male'],\n",
    "     \"fav_music_genre\": ['Pop', 'Rock', 'Hip-Hop'],\n",
    "     \"music_time_slot\": ['Morning', 'Evening', 'Afternoon'],\n",
    "     \"music_lis_frequency\": ['Daily', 'Weekly', 'Monthly'],\n",
    "     \"music_satisfaction\": ['High', 'Medium', 'Low']\n",
    " })\n",
    "\n",
    "stg_songs_dataframe = pd.DataFrame({\n",
    "     \"track_id\": [1, 2, 3],\n",
    "     \"track_name\": [\"Song1\", \"Song2\", \"Song3\"],\n",
    "     \"track_artist\": [\"Artist1\", \"Artist2\", \"Artist3\"],\n",
    "     \"track_popularity\": [80, 90, 70],\n",
    "     \"track_album_id\": [101, 102, 103],\n",
    "     \"track_album_name\": [\"Album1\", \"Album2\", \"Album3\"],\n",
    "     \"track_album_release_date\": [\"2022-01-01\", \"2022-02-01\", \"2022-03-01\"],\n",
    "     \"playlist_name\": [\"Playlist1\", \"Playlist2\", \"Playlist3\"],\n",
    "     \"playlist_id\": [201, 202, 203],\n",
    "     \"playlist_genre\": [\"Genre1\", \"Genre2\", \"Genre3\"],\n",
    "     \"energy\": [0.8, 0.7, 0.6],\n",
    "     \"key\": [1, 2, 3],\n",
    "     \"loudness\": [-5.0, -6.0, -7.0],\n",
    "     \"mode\": [0, 1, 0],\n",
    "     \"speechiness\": [0.1, 0.2, 0.3],\n",
    "     \"valence\": [0.7, 0.6, 0.5],\n",
    "     \"tempo\": [120, 130, 140],\n",
    "     \"duration_ms\": [240000, 250000, 260000]\n",
    " })\n"
   ]
  },
  {
   "cell_type": "code",
   "execution_count": 18,
   "metadata": {},
   "outputs": [
    {
     "name": "stdout",
     "output_type": "stream",
     "text": [
      "INSERT INTO musicschema.Stg_kaggle_spotify_users (age, gender, fav_music_genre, music_time_slot, music_lis_frequency, music_satisfaction) VALUES (25, 'Male', 'Pop', 'Morning', 'Daily', 'High');\n",
      "INSERT INTO musicschema.Stg_kaggle_spotify_users (age, gender, fav_music_genre, music_time_slot, music_lis_frequency, music_satisfaction) VALUES (30, 'Female', 'Rock', 'Evening', 'Weekly', 'Medium');\n",
      "INSERT INTO musicschema.Stg_kaggle_spotify_users (age, gender, fav_music_genre, music_time_slot, music_lis_frequency, music_satisfaction) VALUES (35, 'Male', 'Hip-Hop', 'Afternoon', 'Monthly', 'Low');\n"
     ]
    }
   ],
   "source": [
    "\n",
    "stg_users_table_name = \"Stg_kaggle_spotify_users\"\n",
    "stg_users_schema_name = 'musicschema' \n",
    "stg_users_create_statement = return_create_statement_from_dataframe(\n",
    "stg_users_dataframe, stg_users_schema_name, stg_users_table_name)\n",
    "\n",
    "query = insert_statements_from_dataframe(stg_users_dataframe,stg_users_schema_name ,stg_users_table_name)\n",
    "\n",
    "for statement in query:\n",
    "    execute_query(db_session, statement)\n",
    "    print(statement)\n",
    "    \n",
    "stg_songs_table_name = 'Stg_k\taggle_spotify_songs'\n",
    "stg_songs_schema_name = 'musicschema'  \n",
    "stg_songs_create_statement = return_create_statement_from_dataframe(\n",
    "stg_songs_dataframe, stg_songs_schema_name, stg_songs_table_name)\n",
    "\n",
    "execute_query(conn= db_session, query= stg_users_create_statement)\n",
    "\n",
    "execute_query(conn= db_session, query= stg_songs_create_statement)"
   ]
  },
  {
   "cell_type": "code",
   "execution_count": 19,
   "metadata": {},
   "outputs": [],
   "source": [
    "from enum import Enum\n",
    "\n",
    "class FileType(Enum):\n",
    "    CSV = 1\n",
    "\n",
    "datatype = FileType.CSV\n",
    "datapath = \"C:\\\\dataproject\\\\songs_dataset.csv\"\n",
    "df = extract_data_into_df(datatype,datapath)\n",
    "df\n",
    "#datapath2 = \"C:\\\\dataproject\\\\users_dataset.csv\"\n"
   ]
  },
  {
   "cell_type": "code",
   "execution_count": 22,
   "metadata": {},
   "outputs": [
    {
     "name": "stdout",
     "output_type": "stream",
     "text": [
      "C:\\dataproject\\songs_dataset.csv\n"
     ]
    },
    {
     "ename": "IndexError",
     "evalue": "list index out of range",
     "output_type": "error",
     "traceback": [
      "\u001b[1;31m---------------------------------------------------------------------------\u001b[0m",
      "\u001b[1;31mIndexError\u001b[0m                                Traceback (most recent call last)",
      "\u001b[1;32mc:\\Users\\Admin\\Venus-Repo\\main_tester.ipynb Cell 5\u001b[0m line \u001b[0;36m4\n\u001b[0;32m      <a href='vscode-notebook-cell:/c%3A/Users/Admin/Venus-Repo/main_tester.ipynb#W4sZmlsZQ%3D%3D?line=0'>1</a>\u001b[0m csv_list \u001b[39m=\u001b[39m prehook\u001b[39m.\u001b[39mreturn_csv_list()\n\u001b[0;32m      <a href='vscode-notebook-cell:/c%3A/Users/Admin/Venus-Repo/main_tester.ipynb#W4sZmlsZQ%3D%3D?line=1'>2</a>\u001b[0m \u001b[39mprint\u001b[39m(csv_list[\u001b[39m0\u001b[39m])\n\u001b[1;32m----> <a href='vscode-notebook-cell:/c%3A/Users/Admin/Venus-Repo/main_tester.ipynb#W4sZmlsZQ%3D%3D?line=3'>4</a>\u001b[0m prehook\u001b[39m.\u001b[39;49mcreate_staging_tables(csv_list[\u001b[39m0\u001b[39;49m],\u001b[39m\"\u001b[39;49m\u001b[39msongs\u001b[39;49m\u001b[39m\"\u001b[39;49m)\n",
      "File \u001b[1;32mc:\\Users\\Admin\\Venus-Repo\\prehook.py:27\u001b[0m, in \u001b[0;36mcreate_staging_tables\u001b[1;34m(csv_list, staging_table_name)\u001b[0m\n\u001b[0;32m     24\u001b[0m table_name \u001b[39m=\u001b[39m \u001b[39mf\u001b[39m\u001b[39m\"\u001b[39m\u001b[39mstg_kaggle_\u001b[39m\u001b[39m{\u001b[39;00mstaging_table_name\u001b[39m}\u001b[39;00m\u001b[39m\"\u001b[39m\n\u001b[0;32m     25\u001b[0m stg_df \u001b[39m=\u001b[39m data_handler\u001b[39m.\u001b[39mextract_data_into_df(\n\u001b[0;32m     26\u001b[0m     lookups\u001b[39m.\u001b[39mFileType\u001b[39m.\u001b[39mCSV, csv_item)\n\u001b[1;32m---> 27\u001b[0m staging_table_name \u001b[39m=\u001b[39m csv_item\u001b[39m.\u001b[39;49msplit(\n\u001b[0;32m     28\u001b[0m     \u001b[39m'\u001b[39;49m\u001b[39m/\u001b[39;49m\u001b[39m'\u001b[39;49m)[\u001b[39mlen\u001b[39;49m(csv_item\u001b[39m.\u001b[39;49msplit(\u001b[39m'\u001b[39;49m\u001b[39m/\u001b[39;49m\u001b[39m'\u001b[39;49m))]\u001b[39m.\u001b[39mreplace(\u001b[39m'\u001b[39m\u001b[39m.csv\u001b[39m\u001b[39m'\u001b[39m, \u001b[39m'\u001b[39m\u001b[39m'\u001b[39m)\u001b[39m.\u001b[39mtolower()\n\u001b[0;32m     29\u001b[0m create_stmnt \u001b[39m=\u001b[39m data_handler\u001b[39m.\u001b[39mreturn_create_statement_from_dataframe(\n\u001b[0;32m     30\u001b[0m     stg_df, schema_name, table_name)\n",
      "\u001b[1;31mIndexError\u001b[0m: list index out of range"
     ]
    }
   ],
   "source": [
    "\n",
    "csv_list = prehook.return_csv_list()\n",
    "print(csv_list[0])\n",
    "\n",
    "prehook.create_staging_tables(csv_list,\"songs\")"
   ]
  }
 ],
 "metadata": {
  "kernelspec": {
   "display_name": "gpu_38",
   "language": "python",
   "name": "python3"
  },
  "language_info": {
   "codemirror_mode": {
    "name": "ipython",
    "version": 3
   },
   "file_extension": ".py",
   "mimetype": "text/x-python",
   "name": "python",
   "nbconvert_exporter": "python",
   "pygments_lexer": "ipython3",
   "version": "3.9.18"
  },
  "orig_nbformat": 4
 },
 "nbformat": 4,
 "nbformat_minor": 2
}

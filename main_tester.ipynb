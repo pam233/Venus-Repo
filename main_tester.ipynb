{
 "cells": [
  {
   "cell_type": "code",
   "execution_count": 29,
   "metadata": {},
   "outputs": [],
   "source": [
    "from data_handler import return_create_statement_from_dataframe\n",
    "import pandas as pd\n",
    "from db_handler import create_connection,execute_query, close_connection\n",
    "from data_handler import insert_statement_from_dataframe\n",
    "db_session = create_connection()"
   ]
  },
  {
   "cell_type": "code",
   "execution_count": 30,
   "metadata": {},
   "outputs": [],
   "source": [
    "\n",
    "stg_users_dataframe = pd.DataFrame({\n",
    "    \"ID\": [1, 2, 3],\n",
    "    \"Age\": [25, 30, 35],\n",
    "    \"Gender\": ['Male', 'Female', 'Male'],\n",
    "    \"fav_music_genre\": ['Pop', 'Rock', 'Hip-Hop'],\n",
    "    \"music_time_slot\": ['Morning', 'Evening', 'Afternoon'],\n",
    "    \"music_lis_frequency\": ['Daily', 'Weekly', 'Monthly'],\n",
    "    \"music_satisfaction\": ['High', 'Medium', 'Low']\n",
    "})\n",
    "\n",
    "stg_songs_dataframe = pd.DataFrame({\n",
    "    \"track_id\": [1, 2, 3],\n",
    "    \"track_name\": [\"Song1\", \"Song2\", \"Song3\"],\n",
    "    \"track_artist\": [\"Artist1\", \"Artist2\", \"Artist3\"],\n",
    "    \"track_popularity\": [80, 90, 70],\n",
    "    \"track_album_id\": [101, 102, 103],\n",
    "    \"track_album_name\": [\"Album1\", \"Album2\", \"Album3\"],\n",
    "    \"track_album_release_date\": [\"2022-01-01\", \"2022-02-01\", \"2022-03-01\"],\n",
    "    \"playlist_name\": [\"Playlist1\", \"Playlist2\", \"Playlist3\"],\n",
    "    \"playlist_id\": [201, 202, 203],\n",
    "    \"playlist_genre---\": [\"Genre1\", \"Genre2\", \"Genre3\"],\n",
    "    \"energy\": [0.8, 0.7, 0.6],\n",
    "    \"key\": [1, 2, 3],\n",
    "    \"loudness\": [-5.0, -6.0, -7.0],\n",
    "    \"mode\": [0, 1, 0],\n",
    "    \"speechiness\": [0.1, 0.2, 0.3],\n",
    "    \"valence\": [0.7, 0.6, 0.5],\n",
    "    \"tempo\": [120, 130, 140],\n",
    "    \"duration_ms\": [240000, 250000, 260000]\n",
    "})\n",
    "\n",
    "\n"
   ]
  },
  {
   "cell_type": "code",
   "execution_count": 31,
   "metadata": {},
   "outputs": [],
   "source": [
    "\n",
    "stg_users_table_name = \"stg_users_data\"\n",
    "stg_users_schema_name = \"public\"  \n",
    "stg_users_create_statement = return_create_statement_from_dataframe(\n",
    "    stg_users_dataframe, stg_users_schema_name, stg_users_table_name)\n",
    "\n",
    "\n",
    "stg_songs_table_name = \"stg_songs_data\"\n",
    "stg_songs_schema_name = \"public\"  \n",
    "stg_songs_create_statement = return_create_statement_from_dataframe(\n",
    "    stg_songs_dataframe, stg_songs_schema_name, stg_songs_table_name)\n",
    "\n",
    "execute_query(conn= db_session, query= stg_users_create_statement)\n",
    "\n",
    "execute_query(conn= db_session, query= stg_songs_create_statement)"
   ]
  },
  {
   "cell_type": "code",
   "execution_count": 32,
   "metadata": {},
   "outputs": [
    {
     "name": "stdout",
     "output_type": "stream",
     "text": [
      "INSERT INTO public.stg_songs_data (track_id, track_name, track_artist, track_popularity, track_album_id, track_album_name, track_album_release_date, playlist_name, playlist_id, playlist_genre---, energy, key, loudness, mode, speechiness, valence, tempo, duration_ms) VALUES (1, ''Song1'', ''Artist1'', 80, 101, ''Album1'', ''2022-01-01'', ''Playlist1'', 201, ''Genre1'', 0.8, 1, -5.0, 0, 0.1, 0.7, 120, 240000, 2, ''Song2'', ''Artist2'', 90, 102, ''Album2'', ''2022-02-01'', ''Playlist2'', 202, ''Genre2'', 0.7, 2, -6.0, 1, 0.2, 0.6, 130, 250000, 3, ''Song3'', ''Artist3'', 70, 103, ''Album3'', ''2022-03-01'', ''Playlist3'', 203, ''Genre3'', 0.6, 3, -7.0, 0, 0.3, 0.5, 140, 260000);\n"
     ]
    }
   ],
   "source": [
    "query = insert_statement_from_dataframe(stg_songs_dataframe,stg_songs_schema_name , stg_songs_table_name)\n",
    "execute_query(db_session,query)\n",
    "print(query)\n"
   ]
  }
 ],
 "metadata": {
  "kernelspec": {
   "display_name": "gpu_38",
   "language": "python",
   "name": "python3"
  },
  "language_info": {
   "codemirror_mode": {
    "name": "ipython",
    "version": 3
   },
   "file_extension": ".py",
   "mimetype": "text/x-python",
   "name": "python",
   "nbconvert_exporter": "python",
   "pygments_lexer": "ipython3",
   "version": "3.9.18"
  },
  "orig_nbformat": 4
 },
 "nbformat": 4,
 "nbformat_minor": 2
}

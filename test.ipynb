{
 "cells": [
  {
   "cell_type": "code",
   "execution_count": 7,
   "metadata": {},
   "outputs": [],
   "source": [
    "import pandas as pd\n",
    "import lookups\n",
    "from database_connection import create_connection as create_con\n",
    "data = [\n",
    "    {'Name': 'Alice', 'Age': 25},\n",
    "    {'Name': 'Bob', 'Age': 30},\n",
    "    {'Name': 'Charlie', 'Age': 35}\n",
    "]#testing a dummay df\n",
    "\n",
    "# Create a DataFrame from the data\n",
    "df = pd.DataFrame(data)"
   ]
  },
  {
   "cell_type": "code",
   "execution_count": null,
   "metadata": {},
   "outputs": [],
   "source": []
  },
  {
   "cell_type": "code",
   "execution_count": 8,
   "metadata": {},
   "outputs": [],
   "source": [
    "\n",
    "# columns =','.join(df.columns)\n",
    "# for index, row in df.iterrows():\n",
    "#     values_list=[]\n",
    "#     for val in row.values:\n",
    "#         if pd.isna(val):\n",
    "#             values_list.append(\"NULL\")\n",
    "#         elif isinstance(val,str):\n",
    "#             values_list.append(f\"'{val}'\")\n",
    "#         else:\n",
    "#             values_list.append(str(val))\n",
    "\n",
    "#     values=','.join(values_list)\n",
    "#     insert_statement=f\"INSERT INTO test_schema.table ({columns}) VALUES ({values});\"\n",
    "\n",
    "\n"
   ]
  },
  {
   "cell_type": "code",
   "execution_count": 9,
   "metadata": {},
   "outputs": [],
   "source": [
    "\n",
    "\n",
    "table_name = 'dummy'\n",
    "schema = 'public'\n",
    "for _, row in df.iterrows():\n",
    "    values = ', '.join([f\"'{val}'\" if isinstance(val, str) else 'NULL' if pd.isna(val) else str(val) for val in row])\n",
    "    print(f\"INSERT INTO {schema}.{table_name} ({', '.join(df.columns)}) VALUES ({values});\")\n"
   ]
  }
 ],
 "metadata": {
  "kernelspec": {
   "display_name": "Usj_dataproj",
   "language": "python",
   "name": "python3"
  },
  "language_info": {
   "codemirror_mode": {
    "name": "ipython",
    "version": 3
   },
   "file_extension": ".py",
   "mimetype": "text/x-python",
   "name": "python",
   "nbconvert_exporter": "python",
   "pygments_lexer": "ipython3",
   "version": "3.9.18"
  }
 },
 "nbformat": 4,
 "nbformat_minor": 2
}

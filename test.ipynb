{
 "cells": [
  {
   "cell_type": "code",
   "execution_count": 1,
   "metadata": {},
   "outputs": [
    {
     "ename": "ModuleNotFoundError",
     "evalue": "No module named 'lookups'",
     "output_type": "error",
     "traceback": [
      "\u001b[1;31m---------------------------------------------------------------------------\u001b[0m",
      "\u001b[1;31mModuleNotFoundError\u001b[0m                       Traceback (most recent call last)",
      "\u001b[1;32mc:\\Users\\Admin\\Venus-Repo\\test.ipynb Cell 1\u001b[0m line \u001b[0;36m2\n\u001b[0;32m      <a href='vscode-notebook-cell:/c%3A/Users/Admin/Venus-Repo/test.ipynb#W0sZmlsZQ%3D%3D?line=0'>1</a>\u001b[0m \u001b[39mimport\u001b[39;00m \u001b[39mpandas\u001b[39;00m \u001b[39mas\u001b[39;00m \u001b[39mpd\u001b[39;00m\n\u001b[1;32m----> <a href='vscode-notebook-cell:/c%3A/Users/Admin/Venus-Repo/test.ipynb#W0sZmlsZQ%3D%3D?line=1'>2</a>\u001b[0m \u001b[39mimport\u001b[39;00m \u001b[39mlookups\u001b[39;00m\n\u001b[0;32m      <a href='vscode-notebook-cell:/c%3A/Users/Admin/Venus-Repo/test.ipynb#W0sZmlsZQ%3D%3D?line=2'>3</a>\u001b[0m \u001b[39mfrom\u001b[39;00m \u001b[39mdatabase_connection\u001b[39;00m \u001b[39mimport\u001b[39;00m create_connection \u001b[39mas\u001b[39;00m create_con\n\u001b[0;32m      <a href='vscode-notebook-cell:/c%3A/Users/Admin/Venus-Repo/test.ipynb#W0sZmlsZQ%3D%3D?line=3'>4</a>\u001b[0m data \u001b[39m=\u001b[39m [\n\u001b[0;32m      <a href='vscode-notebook-cell:/c%3A/Users/Admin/Venus-Repo/test.ipynb#W0sZmlsZQ%3D%3D?line=4'>5</a>\u001b[0m     {\u001b[39m'\u001b[39m\u001b[39mName\u001b[39m\u001b[39m'\u001b[39m: \u001b[39m'\u001b[39m\u001b[39mAlice\u001b[39m\u001b[39m'\u001b[39m, \u001b[39m'\u001b[39m\u001b[39mAge\u001b[39m\u001b[39m'\u001b[39m: \u001b[39m25\u001b[39m},\n\u001b[0;32m      <a href='vscode-notebook-cell:/c%3A/Users/Admin/Venus-Repo/test.ipynb#W0sZmlsZQ%3D%3D?line=5'>6</a>\u001b[0m     {\u001b[39m'\u001b[39m\u001b[39mName\u001b[39m\u001b[39m'\u001b[39m: \u001b[39m'\u001b[39m\u001b[39mBob\u001b[39m\u001b[39m'\u001b[39m, \u001b[39m'\u001b[39m\u001b[39mAge\u001b[39m\u001b[39m'\u001b[39m: \u001b[39m30\u001b[39m},\n\u001b[0;32m      <a href='vscode-notebook-cell:/c%3A/Users/Admin/Venus-Repo/test.ipynb#W0sZmlsZQ%3D%3D?line=6'>7</a>\u001b[0m     {\u001b[39m'\u001b[39m\u001b[39mName\u001b[39m\u001b[39m'\u001b[39m: \u001b[39m'\u001b[39m\u001b[39mCharlie\u001b[39m\u001b[39m'\u001b[39m, \u001b[39m'\u001b[39m\u001b[39mAge\u001b[39m\u001b[39m'\u001b[39m: \u001b[39m35\u001b[39m}\n\u001b[0;32m      <a href='vscode-notebook-cell:/c%3A/Users/Admin/Venus-Repo/test.ipynb#W0sZmlsZQ%3D%3D?line=7'>8</a>\u001b[0m ]\u001b[39m#testing a dummay df\u001b[39;00m\n",
      "\u001b[1;31mModuleNotFoundError\u001b[0m: No module named 'lookups'"
     ]
    }
   ],
   "source": [
    "import pandas as pd\n",
    "import lookups\n",
    "from database_connection import create_connection as create_con\n",
    "data = [\n",
    "    {'Name': 'Alice', 'Age': 25},\n",
    "    {'Name': 'Bob', 'Age': 30},\n",
    "    {'Name': 'Charlie', 'Age': 35}\n",
    "]#testing a dummay df\n",
    "\n",
    "# Create a DataFrame from the data\n",
    "df = pd.DataFrame(data)"
   ]
  },
  {
   "cell_type": "code",
   "execution_count": null,
   "metadata": {},
   "outputs": [],
   "source": []
  },
  {
   "cell_type": "code",
   "execution_count": null,
   "metadata": {},
   "outputs": [],
   "source": [
    "\n",
    "# columns =','.join(df.columns)\n",
    "# for index, row in df.iterrows():\n",
    "#     values_list=[]\n",
    "#     for val in row.values:\n",
    "#         if pd.isna(val):\n",
    "#             values_list.append(\"NULL\")\n",
    "#         elif isinstance(val,str):\n",
    "#             values_list.append(f\"'{val}'\")\n",
    "#         else:\n",
    "#             values_list.append(str(val))\n",
    "\n",
    "#     values=','.join(values_list)\n",
    "#     insert_statement=f\"INSERT INTO test_schema.table ({columns}) VALUES ({values});\"\n",
    "\n",
    "\n"
   ]
  },
  {
   "cell_type": "code",
   "execution_count": null,
   "metadata": {},
   "outputs": [],
   "source": [
    "\n",
    "\n",
    "table_name = 'dummy'\n",
    "schema = 'public'\n",
    "for _, row in df.iterrows():\n",
    "    values = ', '.join([f\"'{val}'\" if isinstance(val, str) else 'NULL' if pd.isna(val) else str(val) for val in row])\n",
    "    print(f\"INSERT INTO {schema}.{table_name} ({', '.join(df.columns)}) VALUES ({values});\")\n"
   ]
  }
 ],
 "metadata": {
  "kernelspec": {
   "display_name": "Usj_dataproj",
   "language": "python",
   "name": "python3"
  },
  "language_info": {
   "codemirror_mode": {
    "name": "ipython",
    "version": 3
   },
   "file_extension": ".py",
   "mimetype": "text/x-python",
   "name": "python",
   "nbconvert_exporter": "python",
   "pygments_lexer": "ipython3",
   "version": "3.9.18"
  }
 },
 "nbformat": 4,
 "nbformat_minor": 2
}

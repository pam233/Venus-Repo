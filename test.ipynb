{
 "cells": [
  {
   "cell_type": "code",
   "execution_count": 15,
   "metadata": {},
   "outputs": [],
   "source": [
    "import pandas as pd\n",
    "from database_connection import create_connection as create_con\n",
    "from dataframe_conversion import load_data_into_dataframe\n",
    "import lookups\n",
    "from createstatement import create_table_from_df\n",
    "from database_connection import try_connection\n",
    "import json\n",
    "\n",
    "data = [\n",
    "    {'Name': 'Alice', 'Age': 25},\n",
    "    {'Name': 'Bob', 'Age': 30},\n",
    "    {'Name': 'Charlie', 'Age': 35}\n",
    "]#testing a dummay df\n",
    "\n",
    "# Create a DataFrame from the data\n",
    "df = pd.DataFrame(data)"
   ]
  },
  {
   "cell_type": "code",
   "execution_count": 16,
   "metadata": {},
   "outputs": [],
   "source": [
    "try_connection()"
   ]
  },
  {
   "cell_type": "code",
   "execution_count": 17,
   "metadata": {},
   "outputs": [],
   "source": [
    "\n",
    "# columns =','.join(df.columns)\n",
    "# for index, row in df.iterrows():\n",
    "#     values_list=[]\n",
    "#     for val in row.values:\n",
    "#         if pd.isna(val):\n",
    "#             values_list.append(\"NULL\")\n",
    "#         elif isinstance(val,str):\n",
    "#             values_list.append(f\"'{val}'\")\n",
    "#         else:\n",
    "#             values_list.append(str(val))\n",
    "\n",
    "#     values=','.join(values_list)\n",
    "#     insert_statement=f\"INSERT INTO test_schema.table ({columns}) VALUES ({values});\"\n",
    "\n",
    "\n"
   ]
  },
  {
   "cell_type": "code",
   "execution_count": 18,
   "metadata": {},
   "outputs": [
    {
     "name": "stdout",
     "output_type": "stream",
     "text": [
      "INSERT INTO public.dummy (Name, Age) VALUES ('Alice', 25);\n",
      "INSERT INTO public.dummy (Name, Age) VALUES ('Bob', 30);\n",
      "INSERT INTO public.dummy (Name, Age) VALUES ('Charlie', 35);\n"
     ]
    }
   ],
   "source": [
    "\n",
    "\n",
    "table_name = 'dummy'\n",
    "schema = 'public'\n",
    "for _, row in df.iterrows():\n",
    "    values = ', '.join([f\"'{val}'\" if isinstance(val, str) else 'NULL' if pd.isna(val) else str(val) for val in row])\n",
    "    print(f\"INSERT INTO {schema}.{table_name} ({', '.join(df.columns)}) VALUES ({values});\")\n"
   ]
  },
  {
   "cell_type": "code",
   "execution_count": 19,
   "metadata": {},
   "outputs": [
    {
     "name": "stdout",
     "output_type": "stream",
     "text": [
      "DataFrame from JSON:\n",
      "      Name  Age\n",
      "0    Alice   25\n",
      "1      Bob   30\n",
      "2  Charlie   35\n",
      "\n",
      "DataFrame from API:\n",
      "    userId   id                                              title  \\\n",
      "0        1    1  sunt aut facere repellat provident occaecati e...   \n",
      "1        1    2                                       qui est esse   \n",
      "2        1    3  ea molestias quasi exercitationem repellat qui...   \n",
      "3        1    4                               eum et est occaecati   \n",
      "4        1    5                                 nesciunt quas odio   \n",
      "..     ...  ...                                                ...   \n",
      "95      10   96  quaerat velit veniam amet cupiditate aut numqu...   \n",
      "96      10   97         quas fugiat ut perspiciatis vero provident   \n",
      "97      10   98                        laboriosam dolor voluptates   \n",
      "98      10   99  temporibus sit alias delectus eligendi possimu...   \n",
      "99      10  100              at nam consequatur ea labore ea harum   \n",
      "\n",
      "                                                 body  \n",
      "0   quia et suscipit\\nsuscipit recusandae consequu...  \n",
      "1   est rerum tempore vitae\\nsequi sint nihil repr...  \n",
      "2   et iusto sed quo iure\\nvoluptatem occaecati om...  \n",
      "3   ullam et saepe reiciendis voluptatem adipisci\\...  \n",
      "4   repudiandae veniam quaerat sunt sed\\nalias aut...  \n",
      "..                                                ...  \n",
      "95  in non odio excepturi sint eum\\nlabore volupta...  \n",
      "96  eum non blanditiis soluta porro quibusdam volu...  \n",
      "97  doloremque ex facilis sit sint culpa\\nsoluta a...  \n",
      "98  quo deleniti praesentium dicta non quod\\naut e...  \n",
      "99  cupiditate quo est a modi nesciunt soluta\\nips...  \n",
      "\n",
      "[100 rows x 4 columns]\n",
      "    userId   id                                              title  \\\n",
      "0        1    1  sunt aut facere repellat provident occaecati e...   \n",
      "1        1    2                                       qui est esse   \n",
      "2        1    3  ea molestias quasi exercitationem repellat qui...   \n",
      "3        1    4                               eum et est occaecati   \n",
      "4        1    5                                 nesciunt quas odio   \n",
      "..     ...  ...                                                ...   \n",
      "95      10   96  quaerat velit veniam amet cupiditate aut numqu...   \n",
      "96      10   97         quas fugiat ut perspiciatis vero provident   \n",
      "97      10   98                        laboriosam dolor voluptates   \n",
      "98      10   99  temporibus sit alias delectus eligendi possimu...   \n",
      "99      10  100              at nam consequatur ea labore ea harum   \n",
      "\n",
      "                                                 body  \n",
      "0   quia et suscipit\\nsuscipit recusandae consequu...  \n",
      "1   est rerum tempore vitae\\nsequi sint nihil repr...  \n",
      "2   et iusto sed quo iure\\nvoluptatem occaecati om...  \n",
      "3   ullam et saepe reiciendis voluptatem adipisci\\...  \n",
      "4   repudiandae veniam quaerat sunt sed\\nalias aut...  \n",
      "..                                                ...  \n",
      "95  in non odio excepturi sint eum\\nlabore volupta...  \n",
      "96  eum non blanditiis soluta porro quibusdam volu...  \n",
      "97  doloremque ex facilis sit sint culpa\\nsoluta a...  \n",
      "98  quo deleniti praesentium dicta non quod\\naut e...  \n",
      "99  cupiditate quo est a modi nesciunt soluta\\nips...  \n",
      "\n",
      "[100 rows x 4 columns]\n"
     ]
    }
   ],
   "source": [
    "\n",
    "data = [\n",
    "    {'Name': 'Alice', 'Age': 25},\n",
    "    {'Name': 'Bob', 'Age': 30},\n",
    "    {'Name': 'Charlie', 'Age': 35}\n",
    "]\n",
    "\n",
    "# Define the file path for the JSON file\n",
    "file_path = 'example.json'\n",
    "\n",
    "# Write the data to the JSON file\n",
    "with open(file_path, 'w') as json_file:\n",
    "    json.dump(data, json_file)\n",
    "\n",
    "# Now you have created the 'example.json' file with the data.\n",
    "# You can use it in your code as previously shown.\n",
    "\n",
    "file_path = 'example.json'\n",
    "file_type = 'json'\n",
    "\n",
    "json_df = load_data_into_dataframe(file_path, file_type)\n",
    "\n",
    "# Print the DataFrame\n",
    "print(\"DataFrame from JSON:\")\n",
    "print(json_df)\n",
    "\n",
    "# Load data from the API\n",
    "api_url = 'https://jsonplaceholder.typicode.com/posts'\n",
    "api_df = load_data_into_dataframe(api_url, 'api')\n",
    "\n",
    "# Print the DataFrame from the API\n",
    "print(\"\\nDataFrame from API:\")\n",
    "print(api_df)\n",
    "\n",
    "api_url = 'https://jsonplaceholder.typicode.com/posts'\n",
    "api_df = load_data_into_dataframe(api_url, 'api')\n",
    "print(api_df)\n"
   ]
  }
 ],
 "metadata": {
  "kernelspec": {
   "display_name": "Usj_dataproj",
   "language": "python",
   "name": "python3"
  },
  "language_info": {
   "codemirror_mode": {
    "name": "ipython",
    "version": 3
   },
   "file_extension": ".py",
   "mimetype": "text/x-python",
   "name": "python",
   "nbconvert_exporter": "python",
   "pygments_lexer": "ipython3",
   "version": "3.9.18"
  }
 },
 "nbformat": 4,
 "nbformat_minor": 2
}
